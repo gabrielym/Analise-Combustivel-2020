{
 "cells": [
  {
   "cell_type": "markdown",
   "id": "01fd6644",
   "metadata": {},
   "source": [
    "# Introdução\n",
    "Este jupyter-notebook consiste em uma apresentação de uma análise exploratória dos dados dos combustíveis em 2020, O conjunto de dados foi retirado do Portal Brasileiro de Dados Abertos."
   ]
  },
  {
   "cell_type": "code",
   "execution_count": 3,
   "id": "28ae0550",
   "metadata": {},
   "outputs": [],
   "source": [
    "import pandas as pd\n",
    "import numpy as np\n",
    "import matplotlib.pyplot as plt\n",
    "import seaborn as sns\n",
    "import statistics as sts\n"
   ]
  },
  {
   "cell_type": "code",
   "execution_count": 108,
   "id": "3698c43a",
   "metadata": {},
   "outputs": [],
   "source": [
    "#import plotly.express as px"
   ]
  },
  {
   "cell_type": "code",
   "execution_count": 107,
   "id": "90324232",
   "metadata": {
    "collapsed": true
   },
   "outputs": [
    {
     "name": "stdout",
     "output_type": "stream",
     "text": [
      "Note: you may need to restart the kernel to use updated packages.Collecting plotly\n",
      "\n",
      "  Downloading plotly-5.5.0-py2.py3-none-any.whl (26.5 MB)\n",
      "Requirement already satisfied: six in c:\\users\\administrator\\anaconda3\\lib\\site-packages (from plotly) (1.15.0)\n",
      "Collecting tenacity>=6.2.0\n",
      "  Downloading tenacity-8.0.1-py3-none-any.whl (24 kB)\n",
      "Installing collected packages: tenacity, plotly\n",
      "Successfully installed plotly-5.5.0 tenacity-8.0.1\n"
     ]
    }
   ],
   "source": [
    "#pip install plotly"
   ]
  },
  {
   "cell_type": "code",
   "execution_count": 3,
   "id": "2423a2af",
   "metadata": {},
   "outputs": [],
   "source": [
    "arquivo1 = '/Users/POSITIVO UNION/DT&ML/Datasets/ca-2020-01.xlsx'\n",
    "arquivo2 = '/Users/POSITIVO UNION/DT&ML/Datasets/ca-2020-02.xlsx'\n"
   ]
  },
  {
   "cell_type": "code",
   "execution_count": 4,
   "id": "f3398ee7",
   "metadata": {},
   "outputs": [],
   "source": [
    "df = pd.read_excel(arquivo1)\n",
    "df1 = pd.read_excel(arquivo2)"
   ]
  },
  {
   "cell_type": "markdown",
   "id": "82dd13bf",
   "metadata": {},
   "source": [
    "# Vizualização"
   ]
  },
  {
   "cell_type": "code",
   "execution_count": 5,
   "id": "38624ab5",
   "metadata": {
    "collapsed": true
   },
   "outputs": [
    {
     "data": {
      "text/html": [
       "<div>\n",
       "<style scoped>\n",
       "    .dataframe tbody tr th:only-of-type {\n",
       "        vertical-align: middle;\n",
       "    }\n",
       "\n",
       "    .dataframe tbody tr th {\n",
       "        vertical-align: top;\n",
       "    }\n",
       "\n",
       "    .dataframe thead th {\n",
       "        text-align: right;\n",
       "    }\n",
       "</style>\n",
       "<table border=\"1\" class=\"dataframe\">\n",
       "  <thead>\n",
       "    <tr style=\"text-align: right;\">\n",
       "      <th></th>\n",
       "      <th>Regiao - Sigla</th>\n",
       "      <th>Estado - Sigla</th>\n",
       "      <th>Municipio</th>\n",
       "      <th>Revenda</th>\n",
       "      <th>CNPJ da Revenda</th>\n",
       "      <th>Nome da Rua</th>\n",
       "      <th>Numero Rua</th>\n",
       "      <th>Complemento</th>\n",
       "      <th>Bairro</th>\n",
       "      <th>Cep</th>\n",
       "      <th>Produto</th>\n",
       "      <th>Data da Coleta</th>\n",
       "      <th>Valor de Venda</th>\n",
       "      <th>Valor de Compra</th>\n",
       "      <th>Unidade de Medida</th>\n",
       "      <th>Bandeira</th>\n",
       "    </tr>\n",
       "  </thead>\n",
       "  <tbody>\n",
       "    <tr>\n",
       "      <th>0</th>\n",
       "      <td>SE</td>\n",
       "      <td>SP</td>\n",
       "      <td>GUARULHOS</td>\n",
       "      <td>AUTO POSTO SAKAMOTO LTDA</td>\n",
       "      <td>49.051.667/0001-02</td>\n",
       "      <td>RODOVIA PRESIDENTE DUTRA</td>\n",
       "      <td>S/N</td>\n",
       "      <td>KM 210,5-SENT SP/RJ</td>\n",
       "      <td>BONSUCESSO</td>\n",
       "      <td>07178-580</td>\n",
       "      <td>GASOLINA</td>\n",
       "      <td>2020-01-03</td>\n",
       "      <td>4.399</td>\n",
       "      <td>NaN</td>\n",
       "      <td>R$ / litro</td>\n",
       "      <td>PETROBRAS DISTRIBUIDORA S.A.</td>\n",
       "    </tr>\n",
       "    <tr>\n",
       "      <th>1</th>\n",
       "      <td>SE</td>\n",
       "      <td>SP</td>\n",
       "      <td>GUARULHOS</td>\n",
       "      <td>AUTO POSTO SAKAMOTO LTDA</td>\n",
       "      <td>49.051.667/0001-02</td>\n",
       "      <td>RODOVIA PRESIDENTE DUTRA</td>\n",
       "      <td>S/N</td>\n",
       "      <td>KM 210,5-SENT SP/RJ</td>\n",
       "      <td>BONSUCESSO</td>\n",
       "      <td>07178-580</td>\n",
       "      <td>ETANOL</td>\n",
       "      <td>2020-01-03</td>\n",
       "      <td>3.199</td>\n",
       "      <td>NaN</td>\n",
       "      <td>R$ / litro</td>\n",
       "      <td>PETROBRAS DISTRIBUIDORA S.A.</td>\n",
       "    </tr>\n",
       "    <tr>\n",
       "      <th>2</th>\n",
       "      <td>SE</td>\n",
       "      <td>SP</td>\n",
       "      <td>GUARULHOS</td>\n",
       "      <td>AUTO POSTO SAKAMOTO LTDA</td>\n",
       "      <td>49.051.667/0001-02</td>\n",
       "      <td>RODOVIA PRESIDENTE DUTRA</td>\n",
       "      <td>S/N</td>\n",
       "      <td>KM 210,5-SENT SP/RJ</td>\n",
       "      <td>BONSUCESSO</td>\n",
       "      <td>07178-580</td>\n",
       "      <td>DIESEL S10</td>\n",
       "      <td>2020-01-03</td>\n",
       "      <td>3.899</td>\n",
       "      <td>NaN</td>\n",
       "      <td>R$ / litro</td>\n",
       "      <td>PETROBRAS DISTRIBUIDORA S.A.</td>\n",
       "    </tr>\n",
       "    <tr>\n",
       "      <th>3</th>\n",
       "      <td>SE</td>\n",
       "      <td>SP</td>\n",
       "      <td>GUARULHOS</td>\n",
       "      <td>AUTO POSTO SAKAMOTO LTDA</td>\n",
       "      <td>49.051.667/0001-02</td>\n",
       "      <td>RODOVIA PRESIDENTE DUTRA</td>\n",
       "      <td>S/N</td>\n",
       "      <td>KM 210,5-SENT SP/RJ</td>\n",
       "      <td>BONSUCESSO</td>\n",
       "      <td>07178-580</td>\n",
       "      <td>GNV</td>\n",
       "      <td>2020-01-03</td>\n",
       "      <td>2.995</td>\n",
       "      <td>NaN</td>\n",
       "      <td>R$ / m³</td>\n",
       "      <td>PETROBRAS DISTRIBUIDORA S.A.</td>\n",
       "    </tr>\n",
       "    <tr>\n",
       "      <th>4</th>\n",
       "      <td>NE</td>\n",
       "      <td>BA</td>\n",
       "      <td>SALVADOR</td>\n",
       "      <td>PETROBRAS DISTRIBUIDORA S.A.</td>\n",
       "      <td>34.274.233/0015-08</td>\n",
       "      <td>RUA EDISTIO PONDE</td>\n",
       "      <td>474</td>\n",
       "      <td>NaN</td>\n",
       "      <td>STIEP</td>\n",
       "      <td>41770-395</td>\n",
       "      <td>GASOLINA</td>\n",
       "      <td>2020-01-03</td>\n",
       "      <td>4.690</td>\n",
       "      <td>4.1743</td>\n",
       "      <td>R$ / litro</td>\n",
       "      <td>PETROBRAS DISTRIBUIDORA S.A.</td>\n",
       "    </tr>\n",
       "  </tbody>\n",
       "</table>\n",
       "</div>"
      ],
      "text/plain": [
       "  Regiao - Sigla Estado - Sigla  Municipio                       Revenda  \\\n",
       "0             SE             SP  GUARULHOS      AUTO POSTO SAKAMOTO LTDA   \n",
       "1             SE             SP  GUARULHOS      AUTO POSTO SAKAMOTO LTDA   \n",
       "2             SE             SP  GUARULHOS      AUTO POSTO SAKAMOTO LTDA   \n",
       "3             SE             SP  GUARULHOS      AUTO POSTO SAKAMOTO LTDA   \n",
       "4             NE             BA   SALVADOR  PETROBRAS DISTRIBUIDORA S.A.   \n",
       "\n",
       "       CNPJ da Revenda               Nome da Rua Numero Rua  \\\n",
       "0   49.051.667/0001-02  RODOVIA PRESIDENTE DUTRA        S/N   \n",
       "1   49.051.667/0001-02  RODOVIA PRESIDENTE DUTRA        S/N   \n",
       "2   49.051.667/0001-02  RODOVIA PRESIDENTE DUTRA        S/N   \n",
       "3   49.051.667/0001-02  RODOVIA PRESIDENTE DUTRA        S/N   \n",
       "4   34.274.233/0015-08         RUA EDISTIO PONDE        474   \n",
       "\n",
       "           Complemento      Bairro        Cep     Produto Data da Coleta  \\\n",
       "0  KM 210,5-SENT SP/RJ  BONSUCESSO  07178-580    GASOLINA     2020-01-03   \n",
       "1  KM 210,5-SENT SP/RJ  BONSUCESSO  07178-580      ETANOL     2020-01-03   \n",
       "2  KM 210,5-SENT SP/RJ  BONSUCESSO  07178-580  DIESEL S10     2020-01-03   \n",
       "3  KM 210,5-SENT SP/RJ  BONSUCESSO  07178-580         GNV     2020-01-03   \n",
       "4                  NaN       STIEP  41770-395    GASOLINA     2020-01-03   \n",
       "\n",
       "   Valor de Venda  Valor de Compra Unidade de Medida  \\\n",
       "0           4.399              NaN        R$ / litro   \n",
       "1           3.199              NaN        R$ / litro   \n",
       "2           3.899              NaN        R$ / litro   \n",
       "3           2.995              NaN           R$ / m³   \n",
       "4           4.690           4.1743        R$ / litro   \n",
       "\n",
       "                       Bandeira  \n",
       "0  PETROBRAS DISTRIBUIDORA S.A.  \n",
       "1  PETROBRAS DISTRIBUIDORA S.A.  \n",
       "2  PETROBRAS DISTRIBUIDORA S.A.  \n",
       "3  PETROBRAS DISTRIBUIDORA S.A.  \n",
       "4  PETROBRAS DISTRIBUIDORA S.A.  "
      ]
     },
     "execution_count": 5,
     "metadata": {},
     "output_type": "execute_result"
    }
   ],
   "source": [
    "df.head()"
   ]
  },
  {
   "cell_type": "code",
   "execution_count": 6,
   "id": "9982a1a9",
   "metadata": {
    "scrolled": false
   },
   "outputs": [
    {
     "data": {
      "text/html": [
       "<div>\n",
       "<style scoped>\n",
       "    .dataframe tbody tr th:only-of-type {\n",
       "        vertical-align: middle;\n",
       "    }\n",
       "\n",
       "    .dataframe tbody tr th {\n",
       "        vertical-align: top;\n",
       "    }\n",
       "\n",
       "    .dataframe thead th {\n",
       "        text-align: right;\n",
       "    }\n",
       "</style>\n",
       "<table border=\"1\" class=\"dataframe\">\n",
       "  <thead>\n",
       "    <tr style=\"text-align: right;\">\n",
       "      <th></th>\n",
       "      <th>Regiao - Sigla</th>\n",
       "      <th>Estado - Sigla</th>\n",
       "      <th>Municipio</th>\n",
       "      <th>Revenda</th>\n",
       "      <th>CNPJ da Revenda</th>\n",
       "      <th>Nome da Rua</th>\n",
       "      <th>Numero Rua</th>\n",
       "      <th>Complemento</th>\n",
       "      <th>Bairro</th>\n",
       "      <th>Cep</th>\n",
       "      <th>Produto</th>\n",
       "      <th>Data da Coleta</th>\n",
       "      <th>Valor de Venda</th>\n",
       "      <th>Valor de Compra</th>\n",
       "      <th>Unidade de Medida</th>\n",
       "      <th>Bandeira</th>\n",
       "    </tr>\n",
       "  </thead>\n",
       "  <tbody>\n",
       "    <tr>\n",
       "      <th>0</th>\n",
       "      <td>SE</td>\n",
       "      <td>SP</td>\n",
       "      <td>SOROCABA</td>\n",
       "      <td>COMPETRO COMERCIO E DISTRIBUICAO DE DERIVADOS ...</td>\n",
       "      <td>00.003.188/0001-21</td>\n",
       "      <td>RUA HUMBERTO DE CAMPOS</td>\n",
       "      <td>306</td>\n",
       "      <td>NaN</td>\n",
       "      <td>JARDIM ZULMIRA</td>\n",
       "      <td>18061-000</td>\n",
       "      <td>GASOLINA</td>\n",
       "      <td>2020-07-01</td>\n",
       "      <td>3.559</td>\n",
       "      <td>3.2530</td>\n",
       "      <td>R$ / litro</td>\n",
       "      <td>BRANCA</td>\n",
       "    </tr>\n",
       "    <tr>\n",
       "      <th>1</th>\n",
       "      <td>SE</td>\n",
       "      <td>SP</td>\n",
       "      <td>SOROCABA</td>\n",
       "      <td>COMPETRO COMERCIO E DISTRIBUICAO DE DERIVADOS ...</td>\n",
       "      <td>00.003.188/0001-21</td>\n",
       "      <td>RUA HUMBERTO DE CAMPOS</td>\n",
       "      <td>306</td>\n",
       "      <td>NaN</td>\n",
       "      <td>JARDIM ZULMIRA</td>\n",
       "      <td>18061-000</td>\n",
       "      <td>ETANOL</td>\n",
       "      <td>2020-07-01</td>\n",
       "      <td>2.329</td>\n",
       "      <td>2.1193</td>\n",
       "      <td>R$ / litro</td>\n",
       "      <td>BRANCA</td>\n",
       "    </tr>\n",
       "    <tr>\n",
       "      <th>2</th>\n",
       "      <td>SE</td>\n",
       "      <td>SP</td>\n",
       "      <td>SOROCABA</td>\n",
       "      <td>COMPETRO COMERCIO E DISTRIBUICAO DE DERIVADOS ...</td>\n",
       "      <td>00.003.188/0001-21</td>\n",
       "      <td>RUA HUMBERTO DE CAMPOS</td>\n",
       "      <td>306</td>\n",
       "      <td>NaN</td>\n",
       "      <td>JARDIM ZULMIRA</td>\n",
       "      <td>18061-000</td>\n",
       "      <td>DIESEL S10</td>\n",
       "      <td>2020-07-01</td>\n",
       "      <td>2.859</td>\n",
       "      <td>NaN</td>\n",
       "      <td>R$ / litro</td>\n",
       "      <td>BRANCA</td>\n",
       "    </tr>\n",
       "    <tr>\n",
       "      <th>3</th>\n",
       "      <td>NE</td>\n",
       "      <td>BA</td>\n",
       "      <td>SALVADOR</td>\n",
       "      <td>PETROBRAS DISTRIBUIDORA S.A.</td>\n",
       "      <td>34.274.233/0015-08</td>\n",
       "      <td>RUA EDISTIO PONDE</td>\n",
       "      <td>474</td>\n",
       "      <td>NaN</td>\n",
       "      <td>STIEP</td>\n",
       "      <td>41770-395</td>\n",
       "      <td>GASOLINA</td>\n",
       "      <td>2020-07-02</td>\n",
       "      <td>4.290</td>\n",
       "      <td>3.7676</td>\n",
       "      <td>R$ / litro</td>\n",
       "      <td>PETROBRAS DISTRIBUIDORA S.A.</td>\n",
       "    </tr>\n",
       "    <tr>\n",
       "      <th>4</th>\n",
       "      <td>NE</td>\n",
       "      <td>BA</td>\n",
       "      <td>SALVADOR</td>\n",
       "      <td>PETROBRAS DISTRIBUIDORA S.A.</td>\n",
       "      <td>34.274.233/0015-08</td>\n",
       "      <td>RUA EDISTIO PONDE</td>\n",
       "      <td>474</td>\n",
       "      <td>NaN</td>\n",
       "      <td>STIEP</td>\n",
       "      <td>41770-395</td>\n",
       "      <td>ETANOL</td>\n",
       "      <td>2020-07-02</td>\n",
       "      <td>3.290</td>\n",
       "      <td>2.6651</td>\n",
       "      <td>R$ / litro</td>\n",
       "      <td>PETROBRAS DISTRIBUIDORA S.A.</td>\n",
       "    </tr>\n",
       "  </tbody>\n",
       "</table>\n",
       "</div>"
      ],
      "text/plain": [
       "  Regiao - Sigla Estado - Sigla Municipio  \\\n",
       "0             SE             SP  SOROCABA   \n",
       "1             SE             SP  SOROCABA   \n",
       "2             SE             SP  SOROCABA   \n",
       "3             NE             BA  SALVADOR   \n",
       "4             NE             BA  SALVADOR   \n",
       "\n",
       "                                             Revenda      CNPJ da Revenda  \\\n",
       "0  COMPETRO COMERCIO E DISTRIBUICAO DE DERIVADOS ...   00.003.188/0001-21   \n",
       "1  COMPETRO COMERCIO E DISTRIBUICAO DE DERIVADOS ...   00.003.188/0001-21   \n",
       "2  COMPETRO COMERCIO E DISTRIBUICAO DE DERIVADOS ...   00.003.188/0001-21   \n",
       "3                       PETROBRAS DISTRIBUIDORA S.A.   34.274.233/0015-08   \n",
       "4                       PETROBRAS DISTRIBUIDORA S.A.   34.274.233/0015-08   \n",
       "\n",
       "              Nome da Rua Numero Rua Complemento          Bairro        Cep  \\\n",
       "0  RUA HUMBERTO DE CAMPOS        306         NaN  JARDIM ZULMIRA  18061-000   \n",
       "1  RUA HUMBERTO DE CAMPOS        306         NaN  JARDIM ZULMIRA  18061-000   \n",
       "2  RUA HUMBERTO DE CAMPOS        306         NaN  JARDIM ZULMIRA  18061-000   \n",
       "3       RUA EDISTIO PONDE        474         NaN           STIEP  41770-395   \n",
       "4       RUA EDISTIO PONDE        474         NaN           STIEP  41770-395   \n",
       "\n",
       "      Produto Data da Coleta  Valor de Venda  Valor de Compra  \\\n",
       "0    GASOLINA     2020-07-01           3.559           3.2530   \n",
       "1      ETANOL     2020-07-01           2.329           2.1193   \n",
       "2  DIESEL S10     2020-07-01           2.859              NaN   \n",
       "3    GASOLINA     2020-07-02           4.290           3.7676   \n",
       "4      ETANOL     2020-07-02           3.290           2.6651   \n",
       "\n",
       "  Unidade de Medida                      Bandeira  \n",
       "0        R$ / litro                        BRANCA  \n",
       "1        R$ / litro                        BRANCA  \n",
       "2        R$ / litro                        BRANCA  \n",
       "3        R$ / litro  PETROBRAS DISTRIBUIDORA S.A.  \n",
       "4        R$ / litro  PETROBRAS DISTRIBUIDORA S.A.  "
      ]
     },
     "execution_count": 6,
     "metadata": {},
     "output_type": "execute_result"
    }
   ],
   "source": [
    "df1.head()"
   ]
  },
  {
   "cell_type": "code",
   "execution_count": 7,
   "id": "307d29c7",
   "metadata": {},
   "outputs": [
    {
     "data": {
      "text/plain": [
       "Regiao - Sigla       496663\n",
       "Estado - Sigla       496663\n",
       "Municipio            496663\n",
       "Revenda              496663\n",
       "CNPJ da Revenda      496663\n",
       "Nome da Rua          496663\n",
       "Numero Rua           496316\n",
       "Complemento          129458\n",
       "Bairro               494708\n",
       "Cep                  496663\n",
       "Produto              496663\n",
       "Data da Coleta       496663\n",
       "Valor de Venda       496663\n",
       "Valor de Compra      128975\n",
       "Unidade de Medida    496663\n",
       "Bandeira             496663\n",
       "dtype: int64"
      ]
     },
     "execution_count": 7,
     "metadata": {},
     "output_type": "execute_result"
    }
   ],
   "source": [
    "df.count()"
   ]
  },
  {
   "cell_type": "code",
   "execution_count": 8,
   "id": "c71cd8f7",
   "metadata": {
    "scrolled": true
   },
   "outputs": [
    {
     "data": {
      "text/plain": [
       "Regiao - Sigla       222637\n",
       "Estado - Sigla       222637\n",
       "Municipio            222637\n",
       "Revenda              222637\n",
       "CNPJ da Revenda      222637\n",
       "Nome da Rua          222637\n",
       "Numero Rua           222465\n",
       "Complemento           54744\n",
       "Bairro               221986\n",
       "Cep                  222637\n",
       "Produto              222637\n",
       "Data da Coleta       222637\n",
       "Valor de Venda       222637\n",
       "Valor de Compra       27037\n",
       "Unidade de Medida    222637\n",
       "Bandeira             222637\n",
       "dtype: int64"
      ]
     },
     "execution_count": 8,
     "metadata": {},
     "output_type": "execute_result"
    }
   ],
   "source": [
    "df1.count()"
   ]
  },
  {
   "cell_type": "code",
   "execution_count": 9,
   "id": "5487fe29",
   "metadata": {},
   "outputs": [
    {
     "data": {
      "text/plain": [
       "(496663, 16)"
      ]
     },
     "execution_count": 9,
     "metadata": {},
     "output_type": "execute_result"
    }
   ],
   "source": [
    "df.shape"
   ]
  },
  {
   "cell_type": "code",
   "execution_count": 10,
   "id": "ba4fab8d",
   "metadata": {},
   "outputs": [
    {
     "data": {
      "text/plain": [
       "(222637, 16)"
      ]
     },
     "execution_count": 10,
     "metadata": {},
     "output_type": "execute_result"
    }
   ],
   "source": [
    "df1.shape"
   ]
  },
  {
   "cell_type": "markdown",
   "id": "47e70473",
   "metadata": {},
   "source": [
    "# Limpeza e Transformação"
   ]
  },
  {
   "cell_type": "code",
   "execution_count": 11,
   "id": "4ee46a06",
   "metadata": {},
   "outputs": [
    {
     "data": {
      "text/plain": [
       "Regiao - Sigla            0\n",
       "Estado - Sigla            0\n",
       "Municipio                 0\n",
       "Revenda                   0\n",
       "CNPJ da Revenda           0\n",
       "Nome da Rua               0\n",
       "Numero Rua              347\n",
       "Complemento          367205\n",
       "Bairro                 1955\n",
       "Cep                       0\n",
       "Produto                   0\n",
       "Data da Coleta            0\n",
       "Valor de Venda            0\n",
       "Valor de Compra      367688\n",
       "Unidade de Medida         0\n",
       "Bandeira                  0\n",
       "dtype: int64"
      ]
     },
     "execution_count": 11,
     "metadata": {},
     "output_type": "execute_result"
    }
   ],
   "source": [
    "df.isnull().sum()"
   ]
  },
  {
   "cell_type": "code",
   "execution_count": 12,
   "id": "c14598e8",
   "metadata": {},
   "outputs": [
    {
     "data": {
      "text/plain": [
       "Regiao - Sigla            0\n",
       "Estado - Sigla            0\n",
       "Municipio                 0\n",
       "Revenda                   0\n",
       "CNPJ da Revenda           0\n",
       "Nome da Rua               0\n",
       "Numero Rua              172\n",
       "Complemento          167893\n",
       "Bairro                  651\n",
       "Cep                       0\n",
       "Produto                   0\n",
       "Data da Coleta            0\n",
       "Valor de Venda            0\n",
       "Valor de Compra      195600\n",
       "Unidade de Medida         0\n",
       "Bandeira                  0\n",
       "dtype: int64"
      ]
     },
     "execution_count": 12,
     "metadata": {},
     "output_type": "execute_result"
    }
   ],
   "source": [
    "df1.isnull().sum()"
   ]
  },
  {
   "cell_type": "code",
   "execution_count": 13,
   "id": "da30eb3b",
   "metadata": {
    "collapsed": true
   },
   "outputs": [
    {
     "data": {
      "text/plain": [
       "Estado - Sigla\n",
       "AC      3380\n",
       "AL      5262\n",
       "AM      5280\n",
       "AP      1508\n",
       "BA     30604\n",
       "CE     17916\n",
       "DF      3934\n",
       "ES      9486\n",
       "GO     20535\n",
       "MA      8991\n",
       "MG     51574\n",
       "MS      7937\n",
       "MT     14400\n",
       "PA      8244\n",
       "PB      5502\n",
       "PE     14689\n",
       "PI      5617\n",
       "PR     32721\n",
       "RJ     37596\n",
       "RN      5987\n",
       "RO      6110\n",
       "RR      1000\n",
       "RS     28796\n",
       "SC     19515\n",
       "SE      3838\n",
       "SP    142054\n",
       "TO      4187\n",
       "dtype: int64"
      ]
     },
     "execution_count": 13,
     "metadata": {},
     "output_type": "execute_result"
    }
   ],
   "source": [
    "df.groupby(['Estado - Sigla']).size()"
   ]
  },
  {
   "cell_type": "code",
   "execution_count": 14,
   "id": "9aabfab3",
   "metadata": {
    "collapsed": true
   },
   "outputs": [
    {
     "data": {
      "text/plain": [
       "Estado - Sigla\n",
       "AC     1964\n",
       "AL     2859\n",
       "AM     3606\n",
       "AP      731\n",
       "BA    12780\n",
       "CE     8970\n",
       "DF     3235\n",
       "ES     4647\n",
       "GO     7898\n",
       "MA     4728\n",
       "MG    18325\n",
       "MS     3903\n",
       "MT     6968\n",
       "PA     2979\n",
       "PB     2845\n",
       "PE     5930\n",
       "PI     3077\n",
       "PR    13609\n",
       "RJ    18395\n",
       "RN     3258\n",
       "RO     2835\n",
       "RR      795\n",
       "RS    11860\n",
       "SC     9014\n",
       "SE     1895\n",
       "SP    63833\n",
       "TO     1698\n",
       "dtype: int64"
      ]
     },
     "execution_count": 14,
     "metadata": {},
     "output_type": "execute_result"
    }
   ],
   "source": [
    "df1.groupby(['Estado - Sigla']).size()"
   ]
  },
  {
   "cell_type": "code",
   "execution_count": 15,
   "id": "5b210f39",
   "metadata": {},
   "outputs": [],
   "source": [
    "del df1['Numero Rua']"
   ]
  },
  {
   "cell_type": "code",
   "execution_count": 16,
   "id": "175193c9",
   "metadata": {},
   "outputs": [],
   "source": [
    "del df1['Complemento']"
   ]
  },
  {
   "cell_type": "code",
   "execution_count": 17,
   "id": "d7a14bd9",
   "metadata": {},
   "outputs": [
    {
     "name": "stderr",
     "output_type": "stream",
     "text": [
      "C:\\Users\\Administrator\\anaconda3\\lib\\site-packages\\seaborn\\_decorators.py:36: FutureWarning: Pass the following variable as a keyword arg: x. From version 0.12, the only valid positional argument will be `data`, and passing other arguments without an explicit keyword will result in an error or misinterpretation.\n",
      "  warnings.warn(\n"
     ]
    },
    {
     "data": {
      "text/plain": [
       "<AxesSubplot:xlabel='Valor de Venda'>"
      ]
     },
     "execution_count": 17,
     "metadata": {},
     "output_type": "execute_result"
    },
    {
     "data": {
      "image/png": "[encoded data removed]",
      "text/plain": [
       "<Figure size 432x288 with 1 Axes>"
      ]
     },
     "metadata": {
      "needs_background": "light"
     },
     "output_type": "display_data"
    }
   ],
   "source": [
    "sns.boxplot(df['Valor de Venda'])"
   ]
  },
  {
   "cell_type": "code",
   "execution_count": 18,
   "id": "f2b6e79b",
   "metadata": {},
   "outputs": [
    {
     "data": {
      "text/plain": [
       "count    496663.000000\n",
       "mean          3.644786\n",
       "std           0.623711\n",
       "min           1.799000\n",
       "25%           3.197000\n",
       "50%           3.649000\n",
       "75%           3.999000\n",
       "max           5.899000\n",
       "Name: Valor de Venda, dtype: float64"
      ]
     },
     "execution_count": 18,
     "metadata": {},
     "output_type": "execute_result"
    }
   ],
   "source": [
    "df['Valor de Venda'].describe()"
   ]
  },
  {
   "cell_type": "code",
   "execution_count": 19,
   "id": "7fd9fa57",
   "metadata": {},
   "outputs": [
    {
     "data": {
      "text/plain": [
       "Unidade de Medida\n",
       "R$ / litro    488614\n",
       "R$ / m³         8049\n",
       "dtype: int64"
      ]
     },
     "execution_count": 19,
     "metadata": {},
     "output_type": "execute_result"
    }
   ],
   "source": [
    "df.groupby(['Unidade de Medida']).size()"
   ]
  },
  {
   "cell_type": "code",
   "execution_count": 20,
   "id": "4807d2c6",
   "metadata": {},
   "outputs": [
    {
     "data": {
      "text/html": [
       "<div>\n",
       "<style scoped>\n",
       "    .dataframe tbody tr th:only-of-type {\n",
       "        vertical-align: middle;\n",
       "    }\n",
       "\n",
       "    .dataframe tbody tr th {\n",
       "        vertical-align: top;\n",
       "    }\n",
       "\n",
       "    .dataframe thead th {\n",
       "        text-align: right;\n",
       "    }\n",
       "</style>\n",
       "<table border=\"1\" class=\"dataframe\">\n",
       "  <thead>\n",
       "    <tr style=\"text-align: right;\">\n",
       "      <th></th>\n",
       "      <th>Regiao - Sigla</th>\n",
       "      <th>Estado - Sigla</th>\n",
       "      <th>Municipio</th>\n",
       "      <th>Revenda</th>\n",
       "      <th>CNPJ da Revenda</th>\n",
       "      <th>Nome da Rua</th>\n",
       "      <th>Numero Rua</th>\n",
       "      <th>Complemento</th>\n",
       "      <th>Bairro</th>\n",
       "      <th>Cep</th>\n",
       "      <th>Produto</th>\n",
       "      <th>Data da Coleta</th>\n",
       "      <th>Valor de Venda</th>\n",
       "      <th>Valor de Compra</th>\n",
       "      <th>Unidade de Medida</th>\n",
       "      <th>Bandeira</th>\n",
       "    </tr>\n",
       "  </thead>\n",
       "  <tbody>\n",
       "  </tbody>\n",
       "</table>\n",
       "</div>"
      ],
      "text/plain": [
       "Empty DataFrame\n",
       "Columns: [Regiao - Sigla, Estado - Sigla, Municipio, Revenda, CNPJ da Revenda, Nome da Rua, Numero Rua, Complemento, Bairro, Cep, Produto, Data da Coleta, Valor de Venda, Valor de Compra, Unidade de Medida, Bandeira]\n",
       "Index: []"
      ]
     },
     "execution_count": 20,
     "metadata": {},
     "output_type": "execute_result"
    }
   ],
   "source": [
    "df[df.duplicated()]"
   ]
  },
  {
   "cell_type": "code",
   "execution_count": 21,
   "id": "1bfc80b4",
   "metadata": {},
   "outputs": [
    {
     "data": {
      "text/plain": [
       "count    128975.000000\n",
       "mean          3.230887\n",
       "std           0.609091\n",
       "min           1.555300\n",
       "25%           2.787200\n",
       "50%           3.216000\n",
       "75%           3.657200\n",
       "max           5.003700\n",
       "Name: Valor de Compra, dtype: float64"
      ]
     },
     "execution_count": 21,
     "metadata": {},
     "output_type": "execute_result"
    }
   ],
   "source": [
    "df['Valor de Compra'].describe()"
   ]
  },
  {
   "cell_type": "code",
   "execution_count": 22,
   "id": "4975ae1d",
   "metadata": {},
   "outputs": [],
   "source": [
    "media = df1['Valor de Compra'].mean()"
   ]
  },
  {
   "cell_type": "code",
   "execution_count": 23,
   "id": "bce930fb",
   "metadata": {},
   "outputs": [],
   "source": [
    "media = '{:.4f}'.format(media)"
   ]
  },
  {
   "cell_type": "code",
   "execution_count": 26,
   "id": "987e0060",
   "metadata": {},
   "outputs": [
    {
     "data": {
      "text/plain": [
       "3.0499"
      ]
     },
     "execution_count": 26,
     "metadata": {},
     "output_type": "execute_result"
    }
   ],
   "source": [
    "media"
   ]
  },
  {
   "cell_type": "code",
   "execution_count": 25,
   "id": "abcff351",
   "metadata": {},
   "outputs": [],
   "source": [
    "media = float(media)"
   ]
  },
  {
   "cell_type": "code",
   "execution_count": 27,
   "id": "ce78344d",
   "metadata": {},
   "outputs": [],
   "source": [
    "df1['Valor de Compra'].fillna(media, inplace = True)"
   ]
  },
  {
   "cell_type": "code",
   "execution_count": 28,
   "id": "879fd1fa",
   "metadata": {},
   "outputs": [
    {
     "name": "stderr",
     "output_type": "stream",
     "text": [
      "C:\\Users\\Administrator\\anaconda3\\lib\\site-packages\\seaborn\\_decorators.py:36: FutureWarning: Pass the following variable as a keyword arg: x. From version 0.12, the only valid positional argument will be `data`, and passing other arguments without an explicit keyword will result in an error or misinterpretation.\n",
      "  warnings.warn(\n"
     ]
    },
    {
     "data": {
      "text/plain": [
       "<AxesSubplot:xlabel='Valor de Compra'>"
      ]
     },
     "execution_count": 28,
     "metadata": {},
     "output_type": "execute_result"
    },
    {
     "data": {
      "image/png": "[encoded data removed]",
      "text/plain": [
       "<Figure size 432x288 with 1 Axes>"
      ]
     },
     "metadata": {
      "needs_background": "light"
     },
     "output_type": "display_data"
    }
   ],
   "source": [
    "sns.boxplot(df['Valor de Compra'])"
   ]
  },
  {
   "cell_type": "code",
   "execution_count": 29,
   "id": "49c8afce",
   "metadata": {},
   "outputs": [],
   "source": [
    "shape_before = df.shape[0]\n",
    "shape_curr  = df.dropna().shape[0]"
   ]
  },
  {
   "cell_type": "code",
   "execution_count": 45,
   "id": "b5a364fe",
   "metadata": {
    "scrolled": false
   },
   "outputs": [
    {
     "data": {
      "text/plain": [
       "Regiao - Sigla       0\n",
       "Estado - Sigla       0\n",
       "Municipio            0\n",
       "Revenda              0\n",
       "CNPJ da Revenda      0\n",
       "Nome da Rua          0\n",
       "Bairro               0\n",
       "Cep                  0\n",
       "Produto              0\n",
       "Data da Coleta       0\n",
       "Valor de Venda       0\n",
       "Valor de Compra      0\n",
       "Unidade de Medida    0\n",
       "Bandeira             0\n",
       "dtype: int64"
      ]
     },
     "execution_count": 45,
     "metadata": {},
     "output_type": "execute_result"
    }
   ],
   "source": [
    "df1.isnull().sum()"
   ]
  },
  {
   "cell_type": "code",
   "execution_count": 31,
   "id": "a3c76a94",
   "metadata": {},
   "outputs": [],
   "source": [
    "df1.dropna(inplace = True)"
   ]
  },
  {
   "cell_type": "code",
   "execution_count": 32,
   "id": "30d27cfb",
   "metadata": {},
   "outputs": [
    {
     "data": {
      "text/plain": [
       "(221986, 14)"
      ]
     },
     "execution_count": 32,
     "metadata": {},
     "output_type": "execute_result"
    }
   ],
   "source": [
    "df1.shape"
   ]
  },
  {
   "cell_type": "code",
   "execution_count": 33,
   "id": "6e2a6732",
   "metadata": {},
   "outputs": [
    {
     "name": "stdout",
     "output_type": "stream",
     "text": [
      "462832 linhas foram removidas, o que é 93.18833897431458% do dataset\n"
     ]
    }
   ],
   "source": [
    "print(\"{} linhas foram removidas, o que é {}% do dataset\".format(shape_before-shape_curr, 100-(shape_curr*100/shape_before)))"
   ]
  },
  {
   "cell_type": "code",
   "execution_count": 38,
   "id": "1e5c3372",
   "metadata": {},
   "outputs": [],
   "source": [
    "del df['Complemento']\n",
    "del df['Numero Rua']"
   ]
  },
  {
   "cell_type": "code",
   "execution_count": 39,
   "id": "aaa76088",
   "metadata": {},
   "outputs": [],
   "source": [
    "media = df['Valor de Compra'].mean()"
   ]
  },
  {
   "cell_type": "code",
   "execution_count": 40,
   "id": "1c7981a5",
   "metadata": {},
   "outputs": [],
   "source": [
    "media = '{:.4f}'.format(media)"
   ]
  },
  {
   "cell_type": "code",
   "execution_count": 41,
   "id": "dee76f38",
   "metadata": {},
   "outputs": [],
   "source": [
    "media = float(media)"
   ]
  },
  {
   "cell_type": "code",
   "execution_count": 42,
   "id": "68f08d66",
   "metadata": {},
   "outputs": [],
   "source": [
    "df['Valor de Compra'].fillna(media, inplace = True)"
   ]
  },
  {
   "cell_type": "code",
   "execution_count": 43,
   "id": "a710314a",
   "metadata": {},
   "outputs": [],
   "source": [
    "df.dropna(inplace = True)"
   ]
  },
  {
   "cell_type": "code",
   "execution_count": 49,
   "id": "ad18bd4d",
   "metadata": {},
   "outputs": [],
   "source": [
    "df.to_csv(r'C:\\Users\\POSITIVO UNION\\DT&ML\\Datasets\\combustivel_2020_1.csv', index = False)"
   ]
  },
  {
   "cell_type": "code",
   "execution_count": 50,
   "id": "bbd9829e",
   "metadata": {},
   "outputs": [],
   "source": [
    "df1.to_csv(r'C:\\Users\\POSITIVO UNION\\DT&ML\\Datasets\\combustivel_2020_2.csv', index = False)"
   ]
  },
  {
   "cell_type": "markdown",
   "id": "d5ca59c1",
   "metadata": {},
   "source": [
    "# Análise exploratória"
   ]
  },
  {
   "cell_type": "code",
   "execution_count": 1,
   "id": "8e3ecc81",
   "metadata": {},
   "outputs": [],
   "source": [
    "arquivo = '/Users/POSITIVO UNION/DT&ML/Datasets/combustivel_2020_1.csv'\n",
    "arquivo1 = '/Users/POSITIVO UNION/DT&ML/Datasets/combustivel_2020_2.csv'"
   ]
  },
  {
   "cell_type": "code",
   "execution_count": 5,
   "id": "7ef6ecda",
   "metadata": {},
   "outputs": [],
   "source": [
    "df = pd.read_csv(arquivo)\n",
    "df1 = pd.read_csv(arquivo1)"
   ]
  },
  {
   "cell_type": "code",
   "execution_count": 24,
   "id": "8281cb77",
   "metadata": {},
   "outputs": [],
   "source": [
    "estados1 = df.groupby(['Estado - Sigla']).size()"
   ]
  },
  {
   "cell_type": "code",
   "execution_count": 15,
   "id": "0ce2fd31",
   "metadata": {},
   "outputs": [],
   "source": [
    "estados2 = df1.groupby(['Estado - Sigla']).size()"
   ]
  },
  {
   "cell_type": "code",
   "execution_count": 23,
   "id": "7aedb24f",
   "metadata": {},
   "outputs": [],
   "source": [
    "estados = []"
   ]
  },
  {
   "cell_type": "code",
   "execution_count": 25,
   "id": "8b9f281d",
   "metadata": {},
   "outputs": [],
   "source": [
    "estados.append(estados1)\n",
    "estados.append(estados2)"
   ]
  },
  {
   "cell_type": "code",
   "execution_count": 29,
   "id": "1ab48df2",
   "metadata": {},
   "outputs": [],
   "source": [
    "dfestados = pd.DataFrame(estados).transpose()\n",
    "dfestados.columns=['1-Semestre', '2-Semestre']"
   ]
  },
  {
   "cell_type": "code",
   "execution_count": 30,
   "id": "40ad24ec",
   "metadata": {},
   "outputs": [
    {
     "data": {
      "text/html": [
       "<div>\n",
       "<style scoped>\n",
       "    .dataframe tbody tr th:only-of-type {\n",
       "        vertical-align: middle;\n",
       "    }\n",
       "\n",
       "    .dataframe tbody tr th {\n",
       "        vertical-align: top;\n",
       "    }\n",
       "\n",
       "    .dataframe thead th {\n",
       "        text-align: right;\n",
       "    }\n",
       "</style>\n",
       "<table border=\"1\" class=\"dataframe\">\n",
       "  <thead>\n",
       "    <tr style=\"text-align: right;\">\n",
       "      <th></th>\n",
       "      <th>1-Semestre</th>\n",
       "      <th>2-Semestre</th>\n",
       "    </tr>\n",
       "    <tr>\n",
       "      <th>Estado - Sigla</th>\n",
       "      <th></th>\n",
       "      <th></th>\n",
       "    </tr>\n",
       "  </thead>\n",
       "  <tbody>\n",
       "    <tr>\n",
       "      <th>AC</th>\n",
       "      <td>3296</td>\n",
       "      <td>1940</td>\n",
       "    </tr>\n",
       "    <tr>\n",
       "      <th>AL</th>\n",
       "      <td>5262</td>\n",
       "      <td>2859</td>\n",
       "    </tr>\n",
       "    <tr>\n",
       "      <th>AM</th>\n",
       "      <td>5280</td>\n",
       "      <td>3606</td>\n",
       "    </tr>\n",
       "    <tr>\n",
       "      <th>AP</th>\n",
       "      <td>1508</td>\n",
       "      <td>731</td>\n",
       "    </tr>\n",
       "    <tr>\n",
       "      <th>BA</th>\n",
       "      <td>30590</td>\n",
       "      <td>12780</td>\n",
       "    </tr>\n",
       "    <tr>\n",
       "      <th>CE</th>\n",
       "      <td>17850</td>\n",
       "      <td>8925</td>\n",
       "    </tr>\n",
       "    <tr>\n",
       "      <th>DF</th>\n",
       "      <td>3934</td>\n",
       "      <td>3235</td>\n",
       "    </tr>\n",
       "    <tr>\n",
       "      <th>ES</th>\n",
       "      <td>9449</td>\n",
       "      <td>4636</td>\n",
       "    </tr>\n",
       "    <tr>\n",
       "      <th>GO</th>\n",
       "      <td>20388</td>\n",
       "      <td>7856</td>\n",
       "    </tr>\n",
       "    <tr>\n",
       "      <th>MA</th>\n",
       "      <td>8991</td>\n",
       "      <td>4728</td>\n",
       "    </tr>\n",
       "    <tr>\n",
       "      <th>MG</th>\n",
       "      <td>51059</td>\n",
       "      <td>18165</td>\n",
       "    </tr>\n",
       "    <tr>\n",
       "      <th>MS</th>\n",
       "      <td>7853</td>\n",
       "      <td>3879</td>\n",
       "    </tr>\n",
       "    <tr>\n",
       "      <th>MT</th>\n",
       "      <td>14400</td>\n",
       "      <td>6968</td>\n",
       "    </tr>\n",
       "    <tr>\n",
       "      <th>PA</th>\n",
       "      <td>8163</td>\n",
       "      <td>2958</td>\n",
       "    </tr>\n",
       "    <tr>\n",
       "      <th>PB</th>\n",
       "      <td>5502</td>\n",
       "      <td>2845</td>\n",
       "    </tr>\n",
       "    <tr>\n",
       "      <th>PE</th>\n",
       "      <td>14689</td>\n",
       "      <td>5930</td>\n",
       "    </tr>\n",
       "    <tr>\n",
       "      <th>PI</th>\n",
       "      <td>5595</td>\n",
       "      <td>3077</td>\n",
       "    </tr>\n",
       "    <tr>\n",
       "      <th>PR</th>\n",
       "      <td>32538</td>\n",
       "      <td>13531</td>\n",
       "    </tr>\n",
       "    <tr>\n",
       "      <th>RJ</th>\n",
       "      <td>37521</td>\n",
       "      <td>18372</td>\n",
       "    </tr>\n",
       "    <tr>\n",
       "      <th>RN</th>\n",
       "      <td>5987</td>\n",
       "      <td>3258</td>\n",
       "    </tr>\n",
       "    <tr>\n",
       "      <th>RO</th>\n",
       "      <td>6110</td>\n",
       "      <td>2835</td>\n",
       "    </tr>\n",
       "    <tr>\n",
       "      <th>RR</th>\n",
       "      <td>1000</td>\n",
       "      <td>795</td>\n",
       "    </tr>\n",
       "    <tr>\n",
       "      <th>RS</th>\n",
       "      <td>28676</td>\n",
       "      <td>11825</td>\n",
       "    </tr>\n",
       "    <tr>\n",
       "      <th>SC</th>\n",
       "      <td>19467</td>\n",
       "      <td>8982</td>\n",
       "    </tr>\n",
       "    <tr>\n",
       "      <th>SE</th>\n",
       "      <td>3838</td>\n",
       "      <td>1895</td>\n",
       "    </tr>\n",
       "    <tr>\n",
       "      <th>SP</th>\n",
       "      <td>141575</td>\n",
       "      <td>63677</td>\n",
       "    </tr>\n",
       "    <tr>\n",
       "      <th>TO</th>\n",
       "      <td>4187</td>\n",
       "      <td>1698</td>\n",
       "    </tr>\n",
       "  </tbody>\n",
       "</table>\n",
       "</div>"
      ],
      "text/plain": [
       "                1-Semestre  2-Semestre\n",
       "Estado - Sigla                        \n",
       "AC                    3296        1940\n",
       "AL                    5262        2859\n",
       "AM                    5280        3606\n",
       "AP                    1508         731\n",
       "BA                   30590       12780\n",
       "CE                   17850        8925\n",
       "DF                    3934        3235\n",
       "ES                    9449        4636\n",
       "GO                   20388        7856\n",
       "MA                    8991        4728\n",
       "MG                   51059       18165\n",
       "MS                    7853        3879\n",
       "MT                   14400        6968\n",
       "PA                    8163        2958\n",
       "PB                    5502        2845\n",
       "PE                   14689        5930\n",
       "PI                    5595        3077\n",
       "PR                   32538       13531\n",
       "RJ                   37521       18372\n",
       "RN                    5987        3258\n",
       "RO                    6110        2835\n",
       "RR                    1000         795\n",
       "RS                   28676       11825\n",
       "SC                   19467        8982\n",
       "SE                    3838        1895\n",
       "SP                  141575       63677\n",
       "TO                    4187        1698"
      ]
     },
     "execution_count": 30,
     "metadata": {},
     "output_type": "execute_result"
    }
   ],
   "source": [
    "dfestados"
   ]
  },
  {
   "cell_type": "code",
   "execution_count": 46,
   "id": "6dd888e4",
   "metadata": {},
   "outputs": [],
   "source": [
    "soma = []\n",
    "for idx, i in enumerate(estados1):\n",
    "    soma.append(dfestados['1-Semestre'][idx] + dfestados['2-Semestre'][idx])"
   ]
  },
  {
   "cell_type": "code",
   "execution_count": 48,
   "id": "df022345",
   "metadata": {},
   "outputs": [],
   "source": [
    "soma = pd.Series(soma)"
   ]
  },
  {
   "cell_type": "code",
   "execution_count": 56,
   "id": "64b79dac",
   "metadata": {},
   "outputs": [
    {
     "data": {
      "text/html": [
       "<div>\n",
       "<style scoped>\n",
       "    .dataframe tbody tr th:only-of-type {\n",
       "        vertical-align: middle;\n",
       "    }\n",
       "\n",
       "    .dataframe tbody tr th {\n",
       "        vertical-align: top;\n",
       "    }\n",
       "\n",
       "    .dataframe thead th {\n",
       "        text-align: right;\n",
       "    }\n",
       "</style>\n",
       "<table border=\"1\" class=\"dataframe\">\n",
       "  <thead>\n",
       "    <tr style=\"text-align: right;\">\n",
       "      <th></th>\n",
       "      <th>1-Semestre</th>\n",
       "      <th>2-Semestre</th>\n",
       "      <th>Soma total</th>\n",
       "    </tr>\n",
       "    <tr>\n",
       "      <th>Estado - Sigla</th>\n",
       "      <th></th>\n",
       "      <th></th>\n",
       "      <th></th>\n",
       "    </tr>\n",
       "  </thead>\n",
       "  <tbody>\n",
       "    <tr>\n",
       "      <th>AC</th>\n",
       "      <td>3296</td>\n",
       "      <td>1940</td>\n",
       "      <td>5236.0</td>\n",
       "    </tr>\n",
       "    <tr>\n",
       "      <th>AL</th>\n",
       "      <td>5262</td>\n",
       "      <td>2859</td>\n",
       "      <td>8121.0</td>\n",
       "    </tr>\n",
       "    <tr>\n",
       "      <th>AM</th>\n",
       "      <td>5280</td>\n",
       "      <td>3606</td>\n",
       "      <td>8886.0</td>\n",
       "    </tr>\n",
       "    <tr>\n",
       "      <th>AP</th>\n",
       "      <td>1508</td>\n",
       "      <td>731</td>\n",
       "      <td>2239.0</td>\n",
       "    </tr>\n",
       "    <tr>\n",
       "      <th>BA</th>\n",
       "      <td>30590</td>\n",
       "      <td>12780</td>\n",
       "      <td>43370.0</td>\n",
       "    </tr>\n",
       "    <tr>\n",
       "      <th>CE</th>\n",
       "      <td>17850</td>\n",
       "      <td>8925</td>\n",
       "      <td>26775.0</td>\n",
       "    </tr>\n",
       "    <tr>\n",
       "      <th>DF</th>\n",
       "      <td>3934</td>\n",
       "      <td>3235</td>\n",
       "      <td>7169.0</td>\n",
       "    </tr>\n",
       "    <tr>\n",
       "      <th>ES</th>\n",
       "      <td>9449</td>\n",
       "      <td>4636</td>\n",
       "      <td>14085.0</td>\n",
       "    </tr>\n",
       "    <tr>\n",
       "      <th>GO</th>\n",
       "      <td>20388</td>\n",
       "      <td>7856</td>\n",
       "      <td>28244.0</td>\n",
       "    </tr>\n",
       "    <tr>\n",
       "      <th>MA</th>\n",
       "      <td>8991</td>\n",
       "      <td>4728</td>\n",
       "      <td>13719.0</td>\n",
       "    </tr>\n",
       "    <tr>\n",
       "      <th>MG</th>\n",
       "      <td>51059</td>\n",
       "      <td>18165</td>\n",
       "      <td>69224.0</td>\n",
       "    </tr>\n",
       "    <tr>\n",
       "      <th>MS</th>\n",
       "      <td>7853</td>\n",
       "      <td>3879</td>\n",
       "      <td>11732.0</td>\n",
       "    </tr>\n",
       "    <tr>\n",
       "      <th>MT</th>\n",
       "      <td>14400</td>\n",
       "      <td>6968</td>\n",
       "      <td>21368.0</td>\n",
       "    </tr>\n",
       "    <tr>\n",
       "      <th>PA</th>\n",
       "      <td>8163</td>\n",
       "      <td>2958</td>\n",
       "      <td>11121.0</td>\n",
       "    </tr>\n",
       "    <tr>\n",
       "      <th>PB</th>\n",
       "      <td>5502</td>\n",
       "      <td>2845</td>\n",
       "      <td>8347.0</td>\n",
       "    </tr>\n",
       "    <tr>\n",
       "      <th>PE</th>\n",
       "      <td>14689</td>\n",
       "      <td>5930</td>\n",
       "      <td>20619.0</td>\n",
       "    </tr>\n",
       "    <tr>\n",
       "      <th>PI</th>\n",
       "      <td>5595</td>\n",
       "      <td>3077</td>\n",
       "      <td>8672.0</td>\n",
       "    </tr>\n",
       "    <tr>\n",
       "      <th>PR</th>\n",
       "      <td>32538</td>\n",
       "      <td>13531</td>\n",
       "      <td>46069.0</td>\n",
       "    </tr>\n",
       "    <tr>\n",
       "      <th>RJ</th>\n",
       "      <td>37521</td>\n",
       "      <td>18372</td>\n",
       "      <td>55893.0</td>\n",
       "    </tr>\n",
       "    <tr>\n",
       "      <th>RN</th>\n",
       "      <td>5987</td>\n",
       "      <td>3258</td>\n",
       "      <td>9245.0</td>\n",
       "    </tr>\n",
       "    <tr>\n",
       "      <th>RO</th>\n",
       "      <td>6110</td>\n",
       "      <td>2835</td>\n",
       "      <td>8945.0</td>\n",
       "    </tr>\n",
       "    <tr>\n",
       "      <th>RR</th>\n",
       "      <td>1000</td>\n",
       "      <td>795</td>\n",
       "      <td>1795.0</td>\n",
       "    </tr>\n",
       "    <tr>\n",
       "      <th>RS</th>\n",
       "      <td>28676</td>\n",
       "      <td>11825</td>\n",
       "      <td>40501.0</td>\n",
       "    </tr>\n",
       "    <tr>\n",
       "      <th>SC</th>\n",
       "      <td>19467</td>\n",
       "      <td>8982</td>\n",
       "      <td>28449.0</td>\n",
       "    </tr>\n",
       "    <tr>\n",
       "      <th>SE</th>\n",
       "      <td>3838</td>\n",
       "      <td>1895</td>\n",
       "      <td>5733.0</td>\n",
       "    </tr>\n",
       "    <tr>\n",
       "      <th>SP</th>\n",
       "      <td>141575</td>\n",
       "      <td>63677</td>\n",
       "      <td>205252.0</td>\n",
       "    </tr>\n",
       "    <tr>\n",
       "      <th>TO</th>\n",
       "      <td>4187</td>\n",
       "      <td>1698</td>\n",
       "      <td>5885.0</td>\n",
       "    </tr>\n",
       "  </tbody>\n",
       "</table>\n",
       "</div>"
      ],
      "text/plain": [
       "                1-Semestre  2-Semestre  Soma total\n",
       "Estado - Sigla                                    \n",
       "AC                    3296        1940      5236.0\n",
       "AL                    5262        2859      8121.0\n",
       "AM                    5280        3606      8886.0\n",
       "AP                    1508         731      2239.0\n",
       "BA                   30590       12780     43370.0\n",
       "CE                   17850        8925     26775.0\n",
       "DF                    3934        3235      7169.0\n",
       "ES                    9449        4636     14085.0\n",
       "GO                   20388        7856     28244.0\n",
       "MA                    8991        4728     13719.0\n",
       "MG                   51059       18165     69224.0\n",
       "MS                    7853        3879     11732.0\n",
       "MT                   14400        6968     21368.0\n",
       "PA                    8163        2958     11121.0\n",
       "PB                    5502        2845      8347.0\n",
       "PE                   14689        5930     20619.0\n",
       "PI                    5595        3077      8672.0\n",
       "PR                   32538       13531     46069.0\n",
       "RJ                   37521       18372     55893.0\n",
       "RN                    5987        3258      9245.0\n",
       "RO                    6110        2835      8945.0\n",
       "RR                    1000         795      1795.0\n",
       "RS                   28676       11825     40501.0\n",
       "SC                   19467        8982     28449.0\n",
       "SE                    3838        1895      5733.0\n",
       "SP                  141575       63677    205252.0\n",
       "TO                    4187        1698      5885.0"
      ]
     },
     "execution_count": 56,
     "metadata": {},
     "output_type": "execute_result"
    }
   ],
   "source": [
    "dfestados"
   ]
  },
  {
   "cell_type": "code",
   "execution_count": 54,
   "id": "26ec6850",
   "metadata": {
    "collapsed": true
   },
   "outputs": [
    {
     "name": "stderr",
     "output_type": "stream",
     "text": [
      "<ipython-input-54-b30f31eb161d>:2: SettingWithCopyWarning: \n",
      "A value is trying to be set on a copy of a slice from a DataFrame\n",
      "\n",
      "See the caveats in the documentation: https://pandas.pydata.org/pandas-docs/stable/user_guide/indexing.html#returning-a-view-versus-a-copy\n",
      "  dfestados['Soma total'][idx] = soma[idx]\n"
     ]
    }
   ],
   "source": [
    "for idx, i in enumerate(estados1):\n",
    "    dfestados['Soma total'][idx] = soma[idx]"
   ]
  },
  {
   "cell_type": "code",
   "execution_count": 57,
   "id": "67529919",
   "metadata": {},
   "outputs": [
    {
     "data": {
      "text/plain": [
       "count        27.000000\n",
       "mean      26544.222222\n",
       "std       39772.122332\n",
       "min        1795.000000\n",
       "25%        8234.000000\n",
       "50%       11732.000000\n",
       "75%       28346.500000\n",
       "max      205252.000000\n",
       "Name: Soma total, dtype: float64"
      ]
     },
     "execution_count": 57,
     "metadata": {},
     "output_type": "execute_result"
    }
   ],
   "source": [
    "dfestados['Soma total'].describe()"
   ]
  },
  {
   "cell_type": "code",
   "execution_count": 61,
   "id": "502c8647",
   "metadata": {},
   "outputs": [],
   "source": [
    "maxestados = dfestados['Soma total'].map(lambda x: x if x > 30000 else np.NAN)\n",
    "maxestados.dropna(inplace = True)"
   ]
  },
  {
   "cell_type": "markdown",
   "id": "8dc5a896",
   "metadata": {},
   "source": [
    "1- Quais estados com mais vendas?"
   ]
  },
  {
   "cell_type": "code",
   "execution_count": 62,
   "id": "a895be84",
   "metadata": {
    "scrolled": true
   },
   "outputs": [
    {
     "data": {
      "text/plain": [
       "<AxesSubplot:xlabel='Estado - Sigla'>"
      ]
     },
     "execution_count": 62,
     "metadata": {},
     "output_type": "execute_result"
    },
    {
     "data": {
      "image/png": "[encoded data removed]",
      "text/plain": [
       "<Figure size 432x288 with 1 Axes>"
      ]
     },
     "metadata": {
      "needs_background": "light"
     },
     "output_type": "display_data"
    }
   ],
   "source": [
    "maxestados.plot.bar(color='gray')"
   ]
  },
  {
   "cell_type": "markdown",
   "id": "dea8798a",
   "metadata": {},
   "source": [
    "É possível ver que o estado que vende mais combustível em disparada é São Paulo, mas dos outros estados o que possui mais vendas é Minas Gerais seguido do Rio de Janeiro."
   ]
  },
  {
   "cell_type": "code",
   "execution_count": 4,
   "id": "939f2f77",
   "metadata": {},
   "outputs": [],
   "source": [
    "bandeiras1 = df.groupby(['Bandeira']).size()\n",
    "bandeiras2 = df1.groupby(['Bandeira']).size()"
   ]
  },
  {
   "cell_type": "code",
   "execution_count": 5,
   "id": "e1536516",
   "metadata": {},
   "outputs": [],
   "source": [
    "bandeiras = []\n",
    "bandeiras.append(bandeiras1)\n",
    "bandeiras.append(bandeiras2)"
   ]
  },
  {
   "cell_type": "code",
   "execution_count": 6,
   "id": "3c93bd1e",
   "metadata": {},
   "outputs": [],
   "source": [
    "dfbandeiras = pd.DataFrame(bandeiras).transpose()\n",
    "dfbandeiras.columns=['1-Semestre', '2-Semestre']"
   ]
  },
  {
   "cell_type": "code",
   "execution_count": 7,
   "id": "41ad6831",
   "metadata": {},
   "outputs": [],
   "source": [
    "dfbandeiras.fillna(0, inplace=True)"
   ]
  },
  {
   "cell_type": "code",
   "execution_count": 8,
   "id": "0f126139",
   "metadata": {
    "collapsed": true
   },
   "outputs": [
    {
     "data": {
      "text/html": [
       "<div>\n",
       "<style scoped>\n",
       "    .dataframe tbody tr th:only-of-type {\n",
       "        vertical-align: middle;\n",
       "    }\n",
       "\n",
       "    .dataframe tbody tr th {\n",
       "        vertical-align: top;\n",
       "    }\n",
       "\n",
       "    .dataframe thead th {\n",
       "        text-align: right;\n",
       "    }\n",
       "</style>\n",
       "<table border=\"1\" class=\"dataframe\">\n",
       "  <thead>\n",
       "    <tr style=\"text-align: right;\">\n",
       "      <th></th>\n",
       "      <th>1-Semestre</th>\n",
       "      <th>2-Semestre</th>\n",
       "    </tr>\n",
       "    <tr>\n",
       "      <th>Bandeira</th>\n",
       "      <th></th>\n",
       "      <th></th>\n",
       "    </tr>\n",
       "  </thead>\n",
       "  <tbody>\n",
       "    <tr>\n",
       "      <th>ACOL</th>\n",
       "      <td>60.0</td>\n",
       "      <td>24.0</td>\n",
       "    </tr>\n",
       "    <tr>\n",
       "      <th>ALESAT</th>\n",
       "      <td>12290.0</td>\n",
       "      <td>5206.0</td>\n",
       "    </tr>\n",
       "    <tr>\n",
       "      <th>AMERICANOIL</th>\n",
       "      <td>208.0</td>\n",
       "      <td>133.0</td>\n",
       "    </tr>\n",
       "    <tr>\n",
       "      <th>ATEM' S</th>\n",
       "      <td>2270.0</td>\n",
       "      <td>1662.0</td>\n",
       "    </tr>\n",
       "    <tr>\n",
       "      <th>ATLÂNTICA</th>\n",
       "      <td>488.0</td>\n",
       "      <td>294.0</td>\n",
       "    </tr>\n",
       "    <tr>\n",
       "      <th>BRANCA</th>\n",
       "      <td>175252.0</td>\n",
       "      <td>75615.0</td>\n",
       "    </tr>\n",
       "    <tr>\n",
       "      <th>CHARRUA</th>\n",
       "      <td>818.0</td>\n",
       "      <td>250.0</td>\n",
       "    </tr>\n",
       "    <tr>\n",
       "      <th>CIAPETRO</th>\n",
       "      <td>1253.0</td>\n",
       "      <td>369.0</td>\n",
       "    </tr>\n",
       "    <tr>\n",
       "      <th>DIBRAPE</th>\n",
       "      <td>149.0</td>\n",
       "      <td>60.0</td>\n",
       "    </tr>\n",
       "    <tr>\n",
       "      <th>DINAMO</th>\n",
       "      <td>3.0</td>\n",
       "      <td>1.0</td>\n",
       "    </tr>\n",
       "    <tr>\n",
       "      <th>DISLUB</th>\n",
       "      <td>619.0</td>\n",
       "      <td>411.0</td>\n",
       "    </tr>\n",
       "    <tr>\n",
       "      <th>D`MAIS</th>\n",
       "      <td>354.0</td>\n",
       "      <td>101.0</td>\n",
       "    </tr>\n",
       "    <tr>\n",
       "      <th>EQUADOR</th>\n",
       "      <td>1514.0</td>\n",
       "      <td>768.0</td>\n",
       "    </tr>\n",
       "    <tr>\n",
       "      <th>FAN</th>\n",
       "      <td>516.0</td>\n",
       "      <td>125.0</td>\n",
       "    </tr>\n",
       "    <tr>\n",
       "      <th>FEDERAL</th>\n",
       "      <td>126.0</td>\n",
       "      <td>38.0</td>\n",
       "    </tr>\n",
       "    <tr>\n",
       "      <th>GRAN PETRO</th>\n",
       "      <td>104.0</td>\n",
       "      <td>28.0</td>\n",
       "    </tr>\n",
       "    <tr>\n",
       "      <th>HORA</th>\n",
       "      <td>78.0</td>\n",
       "      <td>34.0</td>\n",
       "    </tr>\n",
       "    <tr>\n",
       "      <th>IDAZA</th>\n",
       "      <td>812.0</td>\n",
       "      <td>443.0</td>\n",
       "    </tr>\n",
       "    <tr>\n",
       "      <th>IPIRANGA</th>\n",
       "      <td>82982.0</td>\n",
       "      <td>38289.0</td>\n",
       "    </tr>\n",
       "    <tr>\n",
       "      <th>LARCO</th>\n",
       "      <td>265.0</td>\n",
       "      <td>114.0</td>\n",
       "    </tr>\n",
       "    <tr>\n",
       "      <th>MASUT DISTRIBUIDORA</th>\n",
       "      <td>363.0</td>\n",
       "      <td>103.0</td>\n",
       "    </tr>\n",
       "    <tr>\n",
       "      <th>MAXSUL</th>\n",
       "      <td>420.0</td>\n",
       "      <td>111.0</td>\n",
       "    </tr>\n",
       "    <tr>\n",
       "      <th>MONTEPETRO</th>\n",
       "      <td>152.0</td>\n",
       "      <td>64.0</td>\n",
       "    </tr>\n",
       "    <tr>\n",
       "      <th>PELIKANO</th>\n",
       "      <td>70.0</td>\n",
       "      <td>0.0</td>\n",
       "    </tr>\n",
       "    <tr>\n",
       "      <th>PETROBAHIA</th>\n",
       "      <td>445.0</td>\n",
       "      <td>149.0</td>\n",
       "    </tr>\n",
       "    <tr>\n",
       "      <th>PETROBRAS DISTRIBUIDORA S.A.</th>\n",
       "      <td>116379.0</td>\n",
       "      <td>51871.0</td>\n",
       "    </tr>\n",
       "    <tr>\n",
       "      <th>PETROLUZ</th>\n",
       "      <td>51.0</td>\n",
       "      <td>24.0</td>\n",
       "    </tr>\n",
       "    <tr>\n",
       "      <th>PETROSERRA</th>\n",
       "      <td>310.0</td>\n",
       "      <td>95.0</td>\n",
       "    </tr>\n",
       "    <tr>\n",
       "      <th>PETROX DISTRIBUIDORA</th>\n",
       "      <td>771.0</td>\n",
       "      <td>339.0</td>\n",
       "    </tr>\n",
       "    <tr>\n",
       "      <th>PODIUM</th>\n",
       "      <td>111.0</td>\n",
       "      <td>28.0</td>\n",
       "    </tr>\n",
       "    <tr>\n",
       "      <th>POTENCIAL</th>\n",
       "      <td>255.0</td>\n",
       "      <td>50.0</td>\n",
       "    </tr>\n",
       "    <tr>\n",
       "      <th>PR DISTRIBUIDORA</th>\n",
       "      <td>3.0</td>\n",
       "      <td>0.0</td>\n",
       "    </tr>\n",
       "    <tr>\n",
       "      <th>RAIZEN</th>\n",
       "      <td>77190.0</td>\n",
       "      <td>36983.0</td>\n",
       "    </tr>\n",
       "    <tr>\n",
       "      <th>RAIZEN MIME</th>\n",
       "      <td>2665.0</td>\n",
       "      <td>1182.0</td>\n",
       "    </tr>\n",
       "    <tr>\n",
       "      <th>REJAILE</th>\n",
       "      <td>264.0</td>\n",
       "      <td>37.0</td>\n",
       "    </tr>\n",
       "    <tr>\n",
       "      <th>RIO BRANCO</th>\n",
       "      <td>504.0</td>\n",
       "      <td>176.0</td>\n",
       "    </tr>\n",
       "    <tr>\n",
       "      <th>RM PETROLEO</th>\n",
       "      <td>16.0</td>\n",
       "      <td>4.0</td>\n",
       "    </tr>\n",
       "    <tr>\n",
       "      <th>RODOIL</th>\n",
       "      <td>1589.0</td>\n",
       "      <td>687.0</td>\n",
       "    </tr>\n",
       "    <tr>\n",
       "      <th>ROYAL FIC</th>\n",
       "      <td>67.0</td>\n",
       "      <td>58.0</td>\n",
       "    </tr>\n",
       "    <tr>\n",
       "      <th>RUFF C.J.</th>\n",
       "      <td>68.0</td>\n",
       "      <td>0.0</td>\n",
       "    </tr>\n",
       "    <tr>\n",
       "      <th>RZD DISTRIBUIDORA</th>\n",
       "      <td>92.0</td>\n",
       "      <td>64.0</td>\n",
       "    </tr>\n",
       "    <tr>\n",
       "      <th>SAARA</th>\n",
       "      <td>49.0</td>\n",
       "      <td>21.0</td>\n",
       "    </tr>\n",
       "    <tr>\n",
       "      <th>SABBÁ</th>\n",
       "      <td>5350.0</td>\n",
       "      <td>2962.0</td>\n",
       "    </tr>\n",
       "    <tr>\n",
       "      <th>SETTA DISTRIBUIDORA</th>\n",
       "      <td>435.0</td>\n",
       "      <td>241.0</td>\n",
       "    </tr>\n",
       "    <tr>\n",
       "      <th>SIMARELLI</th>\n",
       "      <td>494.0</td>\n",
       "      <td>164.0</td>\n",
       "    </tr>\n",
       "    <tr>\n",
       "      <th>SMALL</th>\n",
       "      <td>323.0</td>\n",
       "      <td>78.0</td>\n",
       "    </tr>\n",
       "    <tr>\n",
       "      <th>SP</th>\n",
       "      <td>1921.0</td>\n",
       "      <td>879.0</td>\n",
       "    </tr>\n",
       "    <tr>\n",
       "      <th>STANG</th>\n",
       "      <td>933.0</td>\n",
       "      <td>378.0</td>\n",
       "    </tr>\n",
       "    <tr>\n",
       "      <th>SUL COMBUSTÍVEIS</th>\n",
       "      <td>55.0</td>\n",
       "      <td>28.0</td>\n",
       "    </tr>\n",
       "    <tr>\n",
       "      <th>TAURUS</th>\n",
       "      <td>1406.0</td>\n",
       "      <td>532.0</td>\n",
       "    </tr>\n",
       "    <tr>\n",
       "      <th>TDC DISTRIBUIDORA</th>\n",
       "      <td>432.0</td>\n",
       "      <td>201.0</td>\n",
       "    </tr>\n",
       "    <tr>\n",
       "      <th>TEMAPE</th>\n",
       "      <td>140.0</td>\n",
       "      <td>45.0</td>\n",
       "    </tr>\n",
       "    <tr>\n",
       "      <th>TOBRAS</th>\n",
       "      <td>125.0</td>\n",
       "      <td>87.0</td>\n",
       "    </tr>\n",
       "    <tr>\n",
       "      <th>TORRAO</th>\n",
       "      <td>227.0</td>\n",
       "      <td>108.0</td>\n",
       "    </tr>\n",
       "    <tr>\n",
       "      <th>TOTAL BRASIL</th>\n",
       "      <td>598.0</td>\n",
       "      <td>206.0</td>\n",
       "    </tr>\n",
       "    <tr>\n",
       "      <th>UNI</th>\n",
       "      <td>75.0</td>\n",
       "      <td>30.0</td>\n",
       "    </tr>\n",
       "    <tr>\n",
       "      <th>WALENDOWSKY</th>\n",
       "      <td>15.0</td>\n",
       "      <td>0.0</td>\n",
       "    </tr>\n",
       "    <tr>\n",
       "      <th>WATT</th>\n",
       "      <td>184.0</td>\n",
       "      <td>28.0</td>\n",
       "    </tr>\n",
       "    <tr>\n",
       "      <th>TAG DISTRIBUIDORA</th>\n",
       "      <td>0.0</td>\n",
       "      <td>8.0</td>\n",
       "    </tr>\n",
       "  </tbody>\n",
       "</table>\n",
       "</div>"
      ],
      "text/plain": [
       "                              1-Semestre  2-Semestre\n",
       "Bandeira                                            \n",
       "ACOL                                60.0        24.0\n",
       "ALESAT                           12290.0      5206.0\n",
       "AMERICANOIL                        208.0       133.0\n",
       "ATEM' S                           2270.0      1662.0\n",
       "ATLÂNTICA                          488.0       294.0\n",
       "BRANCA                          175252.0     75615.0\n",
       "CHARRUA                            818.0       250.0\n",
       "CIAPETRO                          1253.0       369.0\n",
       "DIBRAPE                            149.0        60.0\n",
       "DINAMO                               3.0         1.0\n",
       "DISLUB                             619.0       411.0\n",
       "D`MAIS                             354.0       101.0\n",
       "EQUADOR                           1514.0       768.0\n",
       "FAN                                516.0       125.0\n",
       "FEDERAL                            126.0        38.0\n",
       "GRAN PETRO                         104.0        28.0\n",
       "HORA                                78.0        34.0\n",
       "IDAZA                              812.0       443.0\n",
       "IPIRANGA                         82982.0     38289.0\n",
       "LARCO                              265.0       114.0\n",
       "MASUT DISTRIBUIDORA                363.0       103.0\n",
       "MAXSUL                             420.0       111.0\n",
       "MONTEPETRO                         152.0        64.0\n",
       "PELIKANO                            70.0         0.0\n",
       "PETROBAHIA                         445.0       149.0\n",
       "PETROBRAS DISTRIBUIDORA S.A.    116379.0     51871.0\n",
       "PETROLUZ                            51.0        24.0\n",
       "PETROSERRA                         310.0        95.0\n",
       "PETROX DISTRIBUIDORA               771.0       339.0\n",
       "PODIUM                             111.0        28.0\n",
       "POTENCIAL                          255.0        50.0\n",
       "PR DISTRIBUIDORA                     3.0         0.0\n",
       "RAIZEN                           77190.0     36983.0\n",
       "RAIZEN MIME                       2665.0      1182.0\n",
       "REJAILE                            264.0        37.0\n",
       "RIO BRANCO                         504.0       176.0\n",
       "RM PETROLEO                         16.0         4.0\n",
       "RODOIL                            1589.0       687.0\n",
       "ROYAL FIC                           67.0        58.0\n",
       "RUFF C.J.                           68.0         0.0\n",
       "RZD DISTRIBUIDORA                   92.0        64.0\n",
       "SAARA                               49.0        21.0\n",
       "SABBÁ                             5350.0      2962.0\n",
       "SETTA DISTRIBUIDORA                435.0       241.0\n",
       "SIMARELLI                          494.0       164.0\n",
       "SMALL                              323.0        78.0\n",
       "SP                                1921.0       879.0\n",
       "STANG                              933.0       378.0\n",
       "SUL COMBUSTÍVEIS                    55.0        28.0\n",
       "TAURUS                            1406.0       532.0\n",
       "TDC DISTRIBUIDORA                  432.0       201.0\n",
       "TEMAPE                             140.0        45.0\n",
       "TOBRAS                             125.0        87.0\n",
       "TORRAO                             227.0       108.0\n",
       "TOTAL BRASIL                       598.0       206.0\n",
       "UNI                                 75.0        30.0\n",
       "WALENDOWSKY                         15.0         0.0\n",
       "WATT                               184.0        28.0\n",
       "TAG DISTRIBUIDORA                    0.0         8.0"
      ]
     },
     "execution_count": 8,
     "metadata": {},
     "output_type": "execute_result"
    }
   ],
   "source": [
    "dfbandeiras"
   ]
  },
  {
   "cell_type": "code",
   "execution_count": 8,
   "id": "7983af4e",
   "metadata": {},
   "outputs": [],
   "source": [
    "soma = []\n",
    "for idx, i in enumerate(dfbandeiras['1-Semestre']):\n",
    "    soma.append(dfbandeiras['1-Semestre'][idx] + dfbandeiras['2-Semestre'][idx])"
   ]
  },
  {
   "cell_type": "code",
   "execution_count": 9,
   "id": "d8b783e1",
   "metadata": {},
   "outputs": [],
   "source": [
    "dfbandeiras['Soma total'] = soma\n",
    "for idx, i in enumerate(dfbandeiras['1-Semestre']):\n",
    "    dfbandeiras['Soma total'][idx] = soma[idx]"
   ]
  },
  {
   "cell_type": "code",
   "execution_count": 11,
   "id": "c1ce195c",
   "metadata": {},
   "outputs": [
    {
     "data": {
      "text/html": [
       "<div>\n",
       "<style scoped>\n",
       "    .dataframe tbody tr th:only-of-type {\n",
       "        vertical-align: middle;\n",
       "    }\n",
       "\n",
       "    .dataframe tbody tr th {\n",
       "        vertical-align: top;\n",
       "    }\n",
       "\n",
       "    .dataframe thead th {\n",
       "        text-align: right;\n",
       "    }\n",
       "</style>\n",
       "<table border=\"1\" class=\"dataframe\">\n",
       "  <thead>\n",
       "    <tr style=\"text-align: right;\">\n",
       "      <th></th>\n",
       "      <th>1-Semestre</th>\n",
       "      <th>2-Semestre</th>\n",
       "      <th>Soma total</th>\n",
       "    </tr>\n",
       "    <tr>\n",
       "      <th>Bandeira</th>\n",
       "      <th></th>\n",
       "      <th></th>\n",
       "      <th></th>\n",
       "    </tr>\n",
       "  </thead>\n",
       "  <tbody>\n",
       "    <tr>\n",
       "      <th>ACOL</th>\n",
       "      <td>60.0</td>\n",
       "      <td>24.0</td>\n",
       "      <td>84.0</td>\n",
       "    </tr>\n",
       "    <tr>\n",
       "      <th>ALESAT</th>\n",
       "      <td>12290.0</td>\n",
       "      <td>5206.0</td>\n",
       "      <td>17496.0</td>\n",
       "    </tr>\n",
       "    <tr>\n",
       "      <th>AMERICANOIL</th>\n",
       "      <td>208.0</td>\n",
       "      <td>133.0</td>\n",
       "      <td>341.0</td>\n",
       "    </tr>\n",
       "    <tr>\n",
       "      <th>ATEM' S</th>\n",
       "      <td>2270.0</td>\n",
       "      <td>1662.0</td>\n",
       "      <td>3932.0</td>\n",
       "    </tr>\n",
       "    <tr>\n",
       "      <th>ATLÂNTICA</th>\n",
       "      <td>488.0</td>\n",
       "      <td>294.0</td>\n",
       "      <td>782.0</td>\n",
       "    </tr>\n",
       "    <tr>\n",
       "      <th>BRANCA</th>\n",
       "      <td>175252.0</td>\n",
       "      <td>75615.0</td>\n",
       "      <td>250867.0</td>\n",
       "    </tr>\n",
       "    <tr>\n",
       "      <th>CHARRUA</th>\n",
       "      <td>818.0</td>\n",
       "      <td>250.0</td>\n",
       "      <td>1068.0</td>\n",
       "    </tr>\n",
       "    <tr>\n",
       "      <th>CIAPETRO</th>\n",
       "      <td>1253.0</td>\n",
       "      <td>369.0</td>\n",
       "      <td>1622.0</td>\n",
       "    </tr>\n",
       "    <tr>\n",
       "      <th>DIBRAPE</th>\n",
       "      <td>149.0</td>\n",
       "      <td>60.0</td>\n",
       "      <td>209.0</td>\n",
       "    </tr>\n",
       "    <tr>\n",
       "      <th>DINAMO</th>\n",
       "      <td>3.0</td>\n",
       "      <td>1.0</td>\n",
       "      <td>4.0</td>\n",
       "    </tr>\n",
       "    <tr>\n",
       "      <th>DISLUB</th>\n",
       "      <td>619.0</td>\n",
       "      <td>411.0</td>\n",
       "      <td>1030.0</td>\n",
       "    </tr>\n",
       "    <tr>\n",
       "      <th>D`MAIS</th>\n",
       "      <td>354.0</td>\n",
       "      <td>101.0</td>\n",
       "      <td>455.0</td>\n",
       "    </tr>\n",
       "    <tr>\n",
       "      <th>EQUADOR</th>\n",
       "      <td>1514.0</td>\n",
       "      <td>768.0</td>\n",
       "      <td>2282.0</td>\n",
       "    </tr>\n",
       "    <tr>\n",
       "      <th>FAN</th>\n",
       "      <td>516.0</td>\n",
       "      <td>125.0</td>\n",
       "      <td>641.0</td>\n",
       "    </tr>\n",
       "    <tr>\n",
       "      <th>FEDERAL</th>\n",
       "      <td>126.0</td>\n",
       "      <td>38.0</td>\n",
       "      <td>164.0</td>\n",
       "    </tr>\n",
       "    <tr>\n",
       "      <th>GRAN PETRO</th>\n",
       "      <td>104.0</td>\n",
       "      <td>28.0</td>\n",
       "      <td>132.0</td>\n",
       "    </tr>\n",
       "    <tr>\n",
       "      <th>HORA</th>\n",
       "      <td>78.0</td>\n",
       "      <td>34.0</td>\n",
       "      <td>112.0</td>\n",
       "    </tr>\n",
       "    <tr>\n",
       "      <th>IDAZA</th>\n",
       "      <td>812.0</td>\n",
       "      <td>443.0</td>\n",
       "      <td>1255.0</td>\n",
       "    </tr>\n",
       "    <tr>\n",
       "      <th>IPIRANGA</th>\n",
       "      <td>82982.0</td>\n",
       "      <td>38289.0</td>\n",
       "      <td>121271.0</td>\n",
       "    </tr>\n",
       "    <tr>\n",
       "      <th>LARCO</th>\n",
       "      <td>265.0</td>\n",
       "      <td>114.0</td>\n",
       "      <td>379.0</td>\n",
       "    </tr>\n",
       "    <tr>\n",
       "      <th>MASUT DISTRIBUIDORA</th>\n",
       "      <td>363.0</td>\n",
       "      <td>103.0</td>\n",
       "      <td>466.0</td>\n",
       "    </tr>\n",
       "    <tr>\n",
       "      <th>MAXSUL</th>\n",
       "      <td>420.0</td>\n",
       "      <td>111.0</td>\n",
       "      <td>531.0</td>\n",
       "    </tr>\n",
       "    <tr>\n",
       "      <th>MONTEPETRO</th>\n",
       "      <td>152.0</td>\n",
       "      <td>64.0</td>\n",
       "      <td>216.0</td>\n",
       "    </tr>\n",
       "    <tr>\n",
       "      <th>PELIKANO</th>\n",
       "      <td>70.0</td>\n",
       "      <td>0.0</td>\n",
       "      <td>70.0</td>\n",
       "    </tr>\n",
       "    <tr>\n",
       "      <th>PETROBAHIA</th>\n",
       "      <td>445.0</td>\n",
       "      <td>149.0</td>\n",
       "      <td>594.0</td>\n",
       "    </tr>\n",
       "    <tr>\n",
       "      <th>PETROBRAS DISTRIBUIDORA S.A.</th>\n",
       "      <td>116379.0</td>\n",
       "      <td>51871.0</td>\n",
       "      <td>168250.0</td>\n",
       "    </tr>\n",
       "    <tr>\n",
       "      <th>PETROLUZ</th>\n",
       "      <td>51.0</td>\n",
       "      <td>24.0</td>\n",
       "      <td>75.0</td>\n",
       "    </tr>\n",
       "    <tr>\n",
       "      <th>PETROSERRA</th>\n",
       "      <td>310.0</td>\n",
       "      <td>95.0</td>\n",
       "      <td>405.0</td>\n",
       "    </tr>\n",
       "    <tr>\n",
       "      <th>PETROX DISTRIBUIDORA</th>\n",
       "      <td>771.0</td>\n",
       "      <td>339.0</td>\n",
       "      <td>1110.0</td>\n",
       "    </tr>\n",
       "    <tr>\n",
       "      <th>PODIUM</th>\n",
       "      <td>111.0</td>\n",
       "      <td>28.0</td>\n",
       "      <td>139.0</td>\n",
       "    </tr>\n",
       "    <tr>\n",
       "      <th>POTENCIAL</th>\n",
       "      <td>255.0</td>\n",
       "      <td>50.0</td>\n",
       "      <td>305.0</td>\n",
       "    </tr>\n",
       "    <tr>\n",
       "      <th>PR DISTRIBUIDORA</th>\n",
       "      <td>3.0</td>\n",
       "      <td>0.0</td>\n",
       "      <td>3.0</td>\n",
       "    </tr>\n",
       "    <tr>\n",
       "      <th>RAIZEN</th>\n",
       "      <td>77190.0</td>\n",
       "      <td>36983.0</td>\n",
       "      <td>114173.0</td>\n",
       "    </tr>\n",
       "    <tr>\n",
       "      <th>RAIZEN MIME</th>\n",
       "      <td>2665.0</td>\n",
       "      <td>1182.0</td>\n",
       "      <td>3847.0</td>\n",
       "    </tr>\n",
       "    <tr>\n",
       "      <th>REJAILE</th>\n",
       "      <td>264.0</td>\n",
       "      <td>37.0</td>\n",
       "      <td>301.0</td>\n",
       "    </tr>\n",
       "    <tr>\n",
       "      <th>RIO BRANCO</th>\n",
       "      <td>504.0</td>\n",
       "      <td>176.0</td>\n",
       "      <td>680.0</td>\n",
       "    </tr>\n",
       "    <tr>\n",
       "      <th>RM PETROLEO</th>\n",
       "      <td>16.0</td>\n",
       "      <td>4.0</td>\n",
       "      <td>20.0</td>\n",
       "    </tr>\n",
       "    <tr>\n",
       "      <th>RODOIL</th>\n",
       "      <td>1589.0</td>\n",
       "      <td>687.0</td>\n",
       "      <td>2276.0</td>\n",
       "    </tr>\n",
       "    <tr>\n",
       "      <th>ROYAL FIC</th>\n",
       "      <td>67.0</td>\n",
       "      <td>58.0</td>\n",
       "      <td>125.0</td>\n",
       "    </tr>\n",
       "    <tr>\n",
       "      <th>RUFF C.J.</th>\n",
       "      <td>68.0</td>\n",
       "      <td>0.0</td>\n",
       "      <td>68.0</td>\n",
       "    </tr>\n",
       "    <tr>\n",
       "      <th>RZD DISTRIBUIDORA</th>\n",
       "      <td>92.0</td>\n",
       "      <td>64.0</td>\n",
       "      <td>156.0</td>\n",
       "    </tr>\n",
       "    <tr>\n",
       "      <th>SAARA</th>\n",
       "      <td>49.0</td>\n",
       "      <td>21.0</td>\n",
       "      <td>70.0</td>\n",
       "    </tr>\n",
       "    <tr>\n",
       "      <th>SABBÁ</th>\n",
       "      <td>5350.0</td>\n",
       "      <td>2962.0</td>\n",
       "      <td>8312.0</td>\n",
       "    </tr>\n",
       "    <tr>\n",
       "      <th>SETTA DISTRIBUIDORA</th>\n",
       "      <td>435.0</td>\n",
       "      <td>241.0</td>\n",
       "      <td>676.0</td>\n",
       "    </tr>\n",
       "    <tr>\n",
       "      <th>SIMARELLI</th>\n",
       "      <td>494.0</td>\n",
       "      <td>164.0</td>\n",
       "      <td>658.0</td>\n",
       "    </tr>\n",
       "    <tr>\n",
       "      <th>SMALL</th>\n",
       "      <td>323.0</td>\n",
       "      <td>78.0</td>\n",
       "      <td>401.0</td>\n",
       "    </tr>\n",
       "    <tr>\n",
       "      <th>SP</th>\n",
       "      <td>1921.0</td>\n",
       "      <td>879.0</td>\n",
       "      <td>2800.0</td>\n",
       "    </tr>\n",
       "    <tr>\n",
       "      <th>STANG</th>\n",
       "      <td>933.0</td>\n",
       "      <td>378.0</td>\n",
       "      <td>1311.0</td>\n",
       "    </tr>\n",
       "    <tr>\n",
       "      <th>SUL COMBUSTÍVEIS</th>\n",
       "      <td>55.0</td>\n",
       "      <td>28.0</td>\n",
       "      <td>83.0</td>\n",
       "    </tr>\n",
       "    <tr>\n",
       "      <th>TAURUS</th>\n",
       "      <td>1406.0</td>\n",
       "      <td>532.0</td>\n",
       "      <td>1938.0</td>\n",
       "    </tr>\n",
       "    <tr>\n",
       "      <th>TDC DISTRIBUIDORA</th>\n",
       "      <td>432.0</td>\n",
       "      <td>201.0</td>\n",
       "      <td>633.0</td>\n",
       "    </tr>\n",
       "    <tr>\n",
       "      <th>TEMAPE</th>\n",
       "      <td>140.0</td>\n",
       "      <td>45.0</td>\n",
       "      <td>185.0</td>\n",
       "    </tr>\n",
       "    <tr>\n",
       "      <th>TOBRAS</th>\n",
       "      <td>125.0</td>\n",
       "      <td>87.0</td>\n",
       "      <td>212.0</td>\n",
       "    </tr>\n",
       "    <tr>\n",
       "      <th>TORRAO</th>\n",
       "      <td>227.0</td>\n",
       "      <td>108.0</td>\n",
       "      <td>335.0</td>\n",
       "    </tr>\n",
       "    <tr>\n",
       "      <th>TOTAL BRASIL</th>\n",
       "      <td>598.0</td>\n",
       "      <td>206.0</td>\n",
       "      <td>804.0</td>\n",
       "    </tr>\n",
       "    <tr>\n",
       "      <th>UNI</th>\n",
       "      <td>75.0</td>\n",
       "      <td>30.0</td>\n",
       "      <td>105.0</td>\n",
       "    </tr>\n",
       "    <tr>\n",
       "      <th>WALENDOWSKY</th>\n",
       "      <td>15.0</td>\n",
       "      <td>0.0</td>\n",
       "      <td>15.0</td>\n",
       "    </tr>\n",
       "    <tr>\n",
       "      <th>WATT</th>\n",
       "      <td>184.0</td>\n",
       "      <td>28.0</td>\n",
       "      <td>212.0</td>\n",
       "    </tr>\n",
       "    <tr>\n",
       "      <th>TAG DISTRIBUIDORA</th>\n",
       "      <td>0.0</td>\n",
       "      <td>8.0</td>\n",
       "      <td>8.0</td>\n",
       "    </tr>\n",
       "  </tbody>\n",
       "</table>\n",
       "</div>"
      ],
      "text/plain": [
       "                              1-Semestre  2-Semestre  Soma total\n",
       "Bandeira                                                        \n",
       "ACOL                                60.0        24.0        84.0\n",
       "ALESAT                           12290.0      5206.0     17496.0\n",
       "AMERICANOIL                        208.0       133.0       341.0\n",
       "ATEM' S                           2270.0      1662.0      3932.0\n",
       "ATLÂNTICA                          488.0       294.0       782.0\n",
       "BRANCA                          175252.0     75615.0    250867.0\n",
       "CHARRUA                            818.0       250.0      1068.0\n",
       "CIAPETRO                          1253.0       369.0      1622.0\n",
       "DIBRAPE                            149.0        60.0       209.0\n",
       "DINAMO                               3.0         1.0         4.0\n",
       "DISLUB                             619.0       411.0      1030.0\n",
       "D`MAIS                             354.0       101.0       455.0\n",
       "EQUADOR                           1514.0       768.0      2282.0\n",
       "FAN                                516.0       125.0       641.0\n",
       "FEDERAL                            126.0        38.0       164.0\n",
       "GRAN PETRO                         104.0        28.0       132.0\n",
       "HORA                                78.0        34.0       112.0\n",
       "IDAZA                              812.0       443.0      1255.0\n",
       "IPIRANGA                         82982.0     38289.0    121271.0\n",
       "LARCO                              265.0       114.0       379.0\n",
       "MASUT DISTRIBUIDORA                363.0       103.0       466.0\n",
       "MAXSUL                             420.0       111.0       531.0\n",
       "MONTEPETRO                         152.0        64.0       216.0\n",
       "PELIKANO                            70.0         0.0        70.0\n",
       "PETROBAHIA                         445.0       149.0       594.0\n",
       "PETROBRAS DISTRIBUIDORA S.A.    116379.0     51871.0    168250.0\n",
       "PETROLUZ                            51.0        24.0        75.0\n",
       "PETROSERRA                         310.0        95.0       405.0\n",
       "PETROX DISTRIBUIDORA               771.0       339.0      1110.0\n",
       "PODIUM                             111.0        28.0       139.0\n",
       "POTENCIAL                          255.0        50.0       305.0\n",
       "PR DISTRIBUIDORA                     3.0         0.0         3.0\n",
       "RAIZEN                           77190.0     36983.0    114173.0\n",
       "RAIZEN MIME                       2665.0      1182.0      3847.0\n",
       "REJAILE                            264.0        37.0       301.0\n",
       "RIO BRANCO                         504.0       176.0       680.0\n",
       "RM PETROLEO                         16.0         4.0        20.0\n",
       "RODOIL                            1589.0       687.0      2276.0\n",
       "ROYAL FIC                           67.0        58.0       125.0\n",
       "RUFF C.J.                           68.0         0.0        68.0\n",
       "RZD DISTRIBUIDORA                   92.0        64.0       156.0\n",
       "SAARA                               49.0        21.0        70.0\n",
       "SABBÁ                             5350.0      2962.0      8312.0\n",
       "SETTA DISTRIBUIDORA                435.0       241.0       676.0\n",
       "SIMARELLI                          494.0       164.0       658.0\n",
       "SMALL                              323.0        78.0       401.0\n",
       "SP                                1921.0       879.0      2800.0\n",
       "STANG                              933.0       378.0      1311.0\n",
       "SUL COMBUSTÍVEIS                    55.0        28.0        83.0\n",
       "TAURUS                            1406.0       532.0      1938.0\n",
       "TDC DISTRIBUIDORA                  432.0       201.0       633.0\n",
       "TEMAPE                             140.0        45.0       185.0\n",
       "TOBRAS                             125.0        87.0       212.0\n",
       "TORRAO                             227.0       108.0       335.0\n",
       "TOTAL BRASIL                       598.0       206.0       804.0\n",
       "UNI                                 75.0        30.0       105.0\n",
       "WALENDOWSKY                         15.0         0.0        15.0\n",
       "WATT                               184.0        28.0       212.0\n",
       "TAG DISTRIBUIDORA                    0.0         8.0         8.0"
      ]
     },
     "execution_count": 11,
     "metadata": {},
     "output_type": "execute_result"
    }
   ],
   "source": [
    "dfbandeiras"
   ]
  },
  {
   "cell_type": "code",
   "execution_count": 12,
   "id": "1b7449c3",
   "metadata": {},
   "outputs": [
    {
     "data": {
      "text/html": [
       "<div>\n",
       "<style scoped>\n",
       "    .dataframe tbody tr th:only-of-type {\n",
       "        vertical-align: middle;\n",
       "    }\n",
       "\n",
       "    .dataframe tbody tr th {\n",
       "        vertical-align: top;\n",
       "    }\n",
       "\n",
       "    .dataframe thead th {\n",
       "        text-align: right;\n",
       "    }\n",
       "</style>\n",
       "<table border=\"1\" class=\"dataframe\">\n",
       "  <thead>\n",
       "    <tr style=\"text-align: right;\">\n",
       "      <th></th>\n",
       "      <th>1-Semestre</th>\n",
       "      <th>2-Semestre</th>\n",
       "      <th>Soma total</th>\n",
       "    </tr>\n",
       "  </thead>\n",
       "  <tbody>\n",
       "    <tr>\n",
       "      <th>count</th>\n",
       "      <td>59.000000</td>\n",
       "      <td>59.000000</td>\n",
       "      <td>59.000000</td>\n",
       "    </tr>\n",
       "    <tr>\n",
       "      <th>mean</th>\n",
       "      <td>8384.881356</td>\n",
       "      <td>3762.474576</td>\n",
       "      <td>12147.355932</td>\n",
       "    </tr>\n",
       "    <tr>\n",
       "      <th>std</th>\n",
       "      <td>30275.686007</td>\n",
       "      <td>13422.977538</td>\n",
       "      <td>43691.916200</td>\n",
       "    </tr>\n",
       "    <tr>\n",
       "      <th>min</th>\n",
       "      <td>0.000000</td>\n",
       "      <td>0.000000</td>\n",
       "      <td>3.000000</td>\n",
       "    </tr>\n",
       "    <tr>\n",
       "      <th>25%</th>\n",
       "      <td>98.000000</td>\n",
       "      <td>32.000000</td>\n",
       "      <td>135.500000</td>\n",
       "    </tr>\n",
       "    <tr>\n",
       "      <th>50%</th>\n",
       "      <td>323.000000</td>\n",
       "      <td>108.000000</td>\n",
       "      <td>405.000000</td>\n",
       "    </tr>\n",
       "    <tr>\n",
       "      <th>75%</th>\n",
       "      <td>815.000000</td>\n",
       "      <td>373.500000</td>\n",
       "      <td>1182.500000</td>\n",
       "    </tr>\n",
       "    <tr>\n",
       "      <th>max</th>\n",
       "      <td>175252.000000</td>\n",
       "      <td>75615.000000</td>\n",
       "      <td>250867.000000</td>\n",
       "    </tr>\n",
       "  </tbody>\n",
       "</table>\n",
       "</div>"
      ],
      "text/plain": [
       "          1-Semestre    2-Semestre     Soma total\n",
       "count      59.000000     59.000000      59.000000\n",
       "mean     8384.881356   3762.474576   12147.355932\n",
       "std     30275.686007  13422.977538   43691.916200\n",
       "min         0.000000      0.000000       3.000000\n",
       "25%        98.000000     32.000000     135.500000\n",
       "50%       323.000000    108.000000     405.000000\n",
       "75%       815.000000    373.500000    1182.500000\n",
       "max    175252.000000  75615.000000  250867.000000"
      ]
     },
     "execution_count": 12,
     "metadata": {},
     "output_type": "execute_result"
    }
   ],
   "source": [
    "dfbandeiras.describe()"
   ]
  },
  {
   "cell_type": "code",
   "execution_count": 10,
   "id": "e8246db9",
   "metadata": {},
   "outputs": [],
   "source": [
    "maxbandeiras = dfbandeiras['Soma total'].map(lambda x: x if x > 2500 else np.NAN)\n",
    "maxbandeiras.dropna(inplace= True)"
   ]
  },
  {
   "cell_type": "code",
   "execution_count": 11,
   "id": "0fd34d9f",
   "metadata": {},
   "outputs": [
    {
     "data": {
      "text/plain": [
       "Bandeira\n",
       "ALESAT                           17496.0\n",
       "ATEM' S                           3932.0\n",
       "BRANCA                          250867.0\n",
       "IPIRANGA                        121271.0\n",
       "PETROBRAS DISTRIBUIDORA S.A.    168250.0\n",
       "RAIZEN                          114173.0\n",
       "RAIZEN MIME                       3847.0\n",
       "SABBÁ                             8312.0\n",
       "SP                                2800.0\n",
       "Name: Soma total, dtype: float64"
      ]
     },
     "execution_count": 11,
     "metadata": {},
     "output_type": "execute_result"
    }
   ],
   "source": [
    "maxbandeiras"
   ]
  },
  {
   "cell_type": "markdown",
   "id": "3a999166",
   "metadata": {},
   "source": [
    "2- Quais bandeiras venderam mais?"
   ]
  },
  {
   "cell_type": "code",
   "execution_count": 15,
   "id": "068cb670",
   "metadata": {},
   "outputs": [
    {
     "data": {
      "text/plain": [
       "<AxesSubplot:xlabel='Bandeira'>"
      ]
     },
     "execution_count": 15,
     "metadata": {},
     "output_type": "execute_result"
    },
    {
     "data": {
      "image/png": "[encoded data removed]",
      "text/plain": [
       "<Figure size 432x288 with 1 Axes>"
      ]
     },
     "metadata": {
      "needs_background": "light"
     },
     "output_type": "display_data"
    }
   ],
   "source": [
    "maxbandeiras.plot.bar(color='gray')"
   ]
  },
  {
   "cell_type": "markdown",
   "id": "740ca7db",
   "metadata": {},
   "source": [
    "Pelo gráfico é possível observar que tirando as bandeiras brancas, a bandeira que vendeu mais em 2020 foi a petrobras seguida da ipiranga."
   ]
  },
  {
   "cell_type": "code",
   "execution_count": 11,
   "id": "16a1273f",
   "metadata": {},
   "outputs": [
    {
     "data": {
      "text/plain": [
       "465827.0"
      ]
     },
     "execution_count": 11,
     "metadata": {},
     "output_type": "execute_result"
    }
   ],
   "source": [
    "totalbandeiras = dfbandeiras['Soma total'].sum()\n",
    "brancas = 250867.0\n",
    "totalbandeiras - brancas"
   ]
  },
  {
   "cell_type": "code",
   "execution_count": 13,
   "id": "ac022133",
   "metadata": {},
   "outputs": [
    {
     "name": "stdout",
     "output_type": "stream",
     "text": [
      "250867.0 bandeiras brancas, o que é 35.0% do dataset\n"
     ]
    }
   ],
   "source": [
    "print(\"{} bandeiras brancas, o que é {:.1f}% do dataset\".format(brancas, (brancas/totalbandeiras)*100 ))"
   ]
  },
  {
   "cell_type": "code",
   "execution_count": 36,
   "id": "abf26633",
   "metadata": {},
   "outputs": [],
   "source": [
    "percbrancas = (brancas/totalbandeiras)*100 \n",
    "perctotal = 100 - 35\n",
    "perctotal = float(perctotal)\n",
    "percent = ['{:.1f}'.format(percbrancas), '{:.1f}'.format(perctotal)]\n",
    "label = ['Brancas', 'Bandeiras']"
   ]
  },
  {
   "cell_type": "markdown",
   "id": "872f3441",
   "metadata": {},
   "source": [
    "3 - Dos postos do Brasil, qual o percentual de bandeiras brancas?"
   ]
  },
  {
   "cell_type": "code",
   "execution_count": 38,
   "id": "0d71d6ac",
   "metadata": {},
   "outputs": [],
   "source": [
    "colors_list = ['grey', 'darkgrey']"
   ]
  },
  {
   "cell_type": "code",
   "execution_count": 39,
   "id": "803ded4e",
   "metadata": {},
   "outputs": [
    {
     "data": {
      "image/png": "[encoded data removed]",
      "text/plain": [
       "<Figure size 432x288 with 1 Axes>"
      ]
     },
     "metadata": {},
     "output_type": "display_data"
    }
   ],
   "source": [
    "fig3, ax3 = plt.subplots()\n",
    "\n",
    "\n",
    "ax3.pie(percent, labels = label, autopct = '%.1f%%', startangle = 180, colors = colors_list)\n",
    "\n",
    "\n",
    "ax3.axis('equal')\n",
    "\n",
    "plt.show()"
   ]
  },
  {
   "cell_type": "code",
   "execution_count": 16,
   "id": "1c38f785",
   "metadata": {},
   "outputs": [],
   "source": [
    "combustivel1 = df.groupby(['Produto']).size()\n",
    "combustivel2 = df1.groupby(['Produto']).size()"
   ]
  },
  {
   "cell_type": "code",
   "execution_count": 17,
   "id": "9b56c010",
   "metadata": {},
   "outputs": [],
   "source": [
    "combustiveis = []\n",
    "combustiveis.append(combustivel1)\n",
    "combustiveis.append(combustivel2)"
   ]
  },
  {
   "cell_type": "code",
   "execution_count": 18,
   "id": "9f725955",
   "metadata": {},
   "outputs": [],
   "source": [
    "dfcombustiveis = pd.DataFrame(combustiveis).transpose()\n",
    "dfcombustiveis.columns=['1-Semestre', '2-Semestre']"
   ]
  },
  {
   "cell_type": "code",
   "execution_count": 20,
   "id": "b2477e98",
   "metadata": {},
   "outputs": [],
   "source": [
    "dfcombustiveis.fillna(0, inplace=True)"
   ]
  },
  {
   "cell_type": "code",
   "execution_count": 21,
   "id": "d40195ac",
   "metadata": {},
   "outputs": [],
   "source": [
    "soma = []\n",
    "for idx, i in enumerate(dfcombustiveis['1-Semestre']):\n",
    "    soma.append(dfcombustiveis['1-Semestre'][idx] + dfcombustiveis['2-Semestre'][idx])"
   ]
  },
  {
   "cell_type": "code",
   "execution_count": 22,
   "id": "6867625d",
   "metadata": {},
   "outputs": [],
   "source": [
    "dfcombustiveis['Soma total'] = soma\n",
    "for idx, i in enumerate(dfcombustiveis['1-Semestre']):\n",
    "    dfcombustiveis['Soma total'][idx] = soma[idx]"
   ]
  },
  {
   "cell_type": "code",
   "execution_count": 23,
   "id": "89768e37",
   "metadata": {},
   "outputs": [
    {
     "data": {
      "text/html": [
       "<div>\n",
       "<style scoped>\n",
       "    .dataframe tbody tr th:only-of-type {\n",
       "        vertical-align: middle;\n",
       "    }\n",
       "\n",
       "    .dataframe tbody tr th {\n",
       "        vertical-align: top;\n",
       "    }\n",
       "\n",
       "    .dataframe thead th {\n",
       "        text-align: right;\n",
       "    }\n",
       "</style>\n",
       "<table border=\"1\" class=\"dataframe\">\n",
       "  <thead>\n",
       "    <tr style=\"text-align: right;\">\n",
       "      <th></th>\n",
       "      <th>1-Semestre</th>\n",
       "      <th>2-Semestre</th>\n",
       "      <th>Soma total</th>\n",
       "    </tr>\n",
       "    <tr>\n",
       "      <th>Produto</th>\n",
       "      <th></th>\n",
       "      <th></th>\n",
       "      <th></th>\n",
       "    </tr>\n",
       "  </thead>\n",
       "  <tbody>\n",
       "    <tr>\n",
       "      <th>DIESEL</th>\n",
       "      <td>78808.0</td>\n",
       "      <td>29523.0</td>\n",
       "      <td>108331.0</td>\n",
       "    </tr>\n",
       "    <tr>\n",
       "      <th>DIESEL S10</th>\n",
       "      <td>124998.0</td>\n",
       "      <td>52263.0</td>\n",
       "      <td>177261.0</td>\n",
       "    </tr>\n",
       "    <tr>\n",
       "      <th>ETANOL</th>\n",
       "      <td>132969.0</td>\n",
       "      <td>56823.0</td>\n",
       "      <td>189792.0</td>\n",
       "    </tr>\n",
       "    <tr>\n",
       "      <th>GASOLINA</th>\n",
       "      <td>149897.0</td>\n",
       "      <td>63389.0</td>\n",
       "      <td>213286.0</td>\n",
       "    </tr>\n",
       "    <tr>\n",
       "      <th>GNV</th>\n",
       "      <td>8036.0</td>\n",
       "      <td>4419.0</td>\n",
       "      <td>12455.0</td>\n",
       "    </tr>\n",
       "    <tr>\n",
       "      <th>GASOLINA ADITIVADA</th>\n",
       "      <td>0.0</td>\n",
       "      <td>15569.0</td>\n",
       "      <td>15569.0</td>\n",
       "    </tr>\n",
       "  </tbody>\n",
       "</table>\n",
       "</div>"
      ],
      "text/plain": [
       "                    1-Semestre  2-Semestre  Soma total\n",
       "Produto                                               \n",
       "DIESEL                 78808.0     29523.0    108331.0\n",
       "DIESEL S10            124998.0     52263.0    177261.0\n",
       "ETANOL                132969.0     56823.0    189792.0\n",
       "GASOLINA              149897.0     63389.0    213286.0\n",
       "GNV                     8036.0      4419.0     12455.0\n",
       "GASOLINA ADITIVADA         0.0     15569.0     15569.0"
      ]
     },
     "execution_count": 23,
     "metadata": {},
     "output_type": "execute_result"
    }
   ],
   "source": [
    "dfcombustiveis"
   ]
  },
  {
   "cell_type": "code",
   "execution_count": 29,
   "id": "5bd418c9",
   "metadata": {},
   "outputs": [],
   "source": [
    "totalcombustiveis = dfcombustiveis['Soma total']"
   ]
  },
  {
   "cell_type": "markdown",
   "id": "6788346a",
   "metadata": {},
   "source": [
    "Qual o tipo de combustível mais comprado?"
   ]
  },
  {
   "cell_type": "code",
   "execution_count": 31,
   "id": "8a7b2010",
   "metadata": {},
   "outputs": [
    {
     "data": {
      "text/plain": [
       "<AxesSubplot:xlabel='Produto'>"
      ]
     },
     "execution_count": 31,
     "metadata": {},
     "output_type": "execute_result"
    },
    {
     "data": {
      "image/png": "[encoded data removed]",
      "text/plain": [
       "<Figure size 432x288 with 1 Axes>"
      ]
     },
     "metadata": {
      "needs_background": "light"
     },
     "output_type": "display_data"
    }
   ],
   "source": [
    "totalcombustiveis.plot.bar(color = 'grey')"
   ]
  },
  {
   "cell_type": "code",
   "execution_count": 4,
   "id": "f9c4cd12",
   "metadata": {},
   "outputs": [
    {
     "data": {
      "text/html": [
       "<div>\n",
       "<style scoped>\n",
       "    .dataframe tbody tr th:only-of-type {\n",
       "        vertical-align: middle;\n",
       "    }\n",
       "\n",
       "    .dataframe tbody tr th {\n",
       "        vertical-align: top;\n",
       "    }\n",
       "\n",
       "    .dataframe thead th {\n",
       "        text-align: right;\n",
       "    }\n",
       "</style>\n",
       "<table border=\"1\" class=\"dataframe\">\n",
       "  <thead>\n",
       "    <tr style=\"text-align: right;\">\n",
       "      <th></th>\n",
       "      <th>Regiao - Sigla</th>\n",
       "      <th>Estado - Sigla</th>\n",
       "      <th>Municipio</th>\n",
       "      <th>Revenda</th>\n",
       "      <th>CNPJ da Revenda</th>\n",
       "      <th>Nome da Rua</th>\n",
       "      <th>Bairro</th>\n",
       "      <th>Cep</th>\n",
       "      <th>Produto</th>\n",
       "      <th>Data da Coleta</th>\n",
       "      <th>Valor de Venda</th>\n",
       "      <th>Valor de Compra</th>\n",
       "      <th>Unidade de Medida</th>\n",
       "      <th>Bandeira</th>\n",
       "    </tr>\n",
       "  </thead>\n",
       "  <tbody>\n",
       "    <tr>\n",
       "      <th>0</th>\n",
       "      <td>SE</td>\n",
       "      <td>SP</td>\n",
       "      <td>GUARULHOS</td>\n",
       "      <td>AUTO POSTO SAKAMOTO LTDA</td>\n",
       "      <td>49.051.667/0001-02</td>\n",
       "      <td>RODOVIA PRESIDENTE DUTRA</td>\n",
       "      <td>BONSUCESSO</td>\n",
       "      <td>07178-580</td>\n",
       "      <td>GASOLINA</td>\n",
       "      <td>2020-01-03</td>\n",
       "      <td>4.399</td>\n",
       "      <td>3.2309</td>\n",
       "      <td>R$ / litro</td>\n",
       "      <td>PETROBRAS DISTRIBUIDORA S.A.</td>\n",
       "    </tr>\n",
       "    <tr>\n",
       "      <th>1</th>\n",
       "      <td>SE</td>\n",
       "      <td>SP</td>\n",
       "      <td>GUARULHOS</td>\n",
       "      <td>AUTO POSTO SAKAMOTO LTDA</td>\n",
       "      <td>49.051.667/0001-02</td>\n",
       "      <td>RODOVIA PRESIDENTE DUTRA</td>\n",
       "      <td>BONSUCESSO</td>\n",
       "      <td>07178-580</td>\n",
       "      <td>ETANOL</td>\n",
       "      <td>2020-01-03</td>\n",
       "      <td>3.199</td>\n",
       "      <td>3.2309</td>\n",
       "      <td>R$ / litro</td>\n",
       "      <td>PETROBRAS DISTRIBUIDORA S.A.</td>\n",
       "    </tr>\n",
       "    <tr>\n",
       "      <th>2</th>\n",
       "      <td>SE</td>\n",
       "      <td>SP</td>\n",
       "      <td>GUARULHOS</td>\n",
       "      <td>AUTO POSTO SAKAMOTO LTDA</td>\n",
       "      <td>49.051.667/0001-02</td>\n",
       "      <td>RODOVIA PRESIDENTE DUTRA</td>\n",
       "      <td>BONSUCESSO</td>\n",
       "      <td>07178-580</td>\n",
       "      <td>DIESEL S10</td>\n",
       "      <td>2020-01-03</td>\n",
       "      <td>3.899</td>\n",
       "      <td>3.2309</td>\n",
       "      <td>R$ / litro</td>\n",
       "      <td>PETROBRAS DISTRIBUIDORA S.A.</td>\n",
       "    </tr>\n",
       "    <tr>\n",
       "      <th>3</th>\n",
       "      <td>SE</td>\n",
       "      <td>SP</td>\n",
       "      <td>GUARULHOS</td>\n",
       "      <td>AUTO POSTO SAKAMOTO LTDA</td>\n",
       "      <td>49.051.667/0001-02</td>\n",
       "      <td>RODOVIA PRESIDENTE DUTRA</td>\n",
       "      <td>BONSUCESSO</td>\n",
       "      <td>07178-580</td>\n",
       "      <td>GNV</td>\n",
       "      <td>2020-01-03</td>\n",
       "      <td>2.995</td>\n",
       "      <td>3.2309</td>\n",
       "      <td>R$ / m³</td>\n",
       "      <td>PETROBRAS DISTRIBUIDORA S.A.</td>\n",
       "    </tr>\n",
       "    <tr>\n",
       "      <th>4</th>\n",
       "      <td>NE</td>\n",
       "      <td>BA</td>\n",
       "      <td>SALVADOR</td>\n",
       "      <td>PETROBRAS DISTRIBUIDORA S.A.</td>\n",
       "      <td>34.274.233/0015-08</td>\n",
       "      <td>RUA EDISTIO PONDE</td>\n",
       "      <td>STIEP</td>\n",
       "      <td>41770-395</td>\n",
       "      <td>GASOLINA</td>\n",
       "      <td>2020-01-03</td>\n",
       "      <td>4.690</td>\n",
       "      <td>4.1743</td>\n",
       "      <td>R$ / litro</td>\n",
       "      <td>PETROBRAS DISTRIBUIDORA S.A.</td>\n",
       "    </tr>\n",
       "  </tbody>\n",
       "</table>\n",
       "</div>"
      ],
      "text/plain": [
       "  Regiao - Sigla Estado - Sigla  Municipio                       Revenda  \\\n",
       "0             SE             SP  GUARULHOS      AUTO POSTO SAKAMOTO LTDA   \n",
       "1             SE             SP  GUARULHOS      AUTO POSTO SAKAMOTO LTDA   \n",
       "2             SE             SP  GUARULHOS      AUTO POSTO SAKAMOTO LTDA   \n",
       "3             SE             SP  GUARULHOS      AUTO POSTO SAKAMOTO LTDA   \n",
       "4             NE             BA   SALVADOR  PETROBRAS DISTRIBUIDORA S.A.   \n",
       "\n",
       "       CNPJ da Revenda               Nome da Rua      Bairro        Cep  \\\n",
       "0   49.051.667/0001-02  RODOVIA PRESIDENTE DUTRA  BONSUCESSO  07178-580   \n",
       "1   49.051.667/0001-02  RODOVIA PRESIDENTE DUTRA  BONSUCESSO  07178-580   \n",
       "2   49.051.667/0001-02  RODOVIA PRESIDENTE DUTRA  BONSUCESSO  07178-580   \n",
       "3   49.051.667/0001-02  RODOVIA PRESIDENTE DUTRA  BONSUCESSO  07178-580   \n",
       "4   34.274.233/0015-08         RUA EDISTIO PONDE       STIEP  41770-395   \n",
       "\n",
       "      Produto Data da Coleta  Valor de Venda  Valor de Compra  \\\n",
       "0    GASOLINA     2020-01-03           4.399           3.2309   \n",
       "1      ETANOL     2020-01-03           3.199           3.2309   \n",
       "2  DIESEL S10     2020-01-03           3.899           3.2309   \n",
       "3         GNV     2020-01-03           2.995           3.2309   \n",
       "4    GASOLINA     2020-01-03           4.690           4.1743   \n",
       "\n",
       "  Unidade de Medida                      Bandeira  \n",
       "0        R$ / litro  PETROBRAS DISTRIBUIDORA S.A.  \n",
       "1        R$ / litro  PETROBRAS DISTRIBUIDORA S.A.  \n",
       "2        R$ / litro  PETROBRAS DISTRIBUIDORA S.A.  \n",
       "3           R$ / m³  PETROBRAS DISTRIBUIDORA S.A.  \n",
       "4        R$ / litro  PETROBRAS DISTRIBUIDORA S.A.  "
      ]
     },
     "execution_count": 4,
     "metadata": {},
     "output_type": "execute_result"
    }
   ],
   "source": [
    "df.head()"
   ]
  },
  {
   "cell_type": "code",
   "execution_count": 6,
   "id": "871fd017",
   "metadata": {},
   "outputs": [],
   "source": [
    "mes = df['Data da Coleta'].map(lambda x: x.split('-')[1])\n",
    "mes = pd.Series(mes)"
   ]
  },
  {
   "cell_type": "code",
   "execution_count": 7,
   "id": "c19d0c81",
   "metadata": {},
   "outputs": [],
   "source": [
    "df['Mes da Coleta'] = mes"
   ]
  },
  {
   "cell_type": "code",
   "execution_count": 8,
   "id": "f4508095",
   "metadata": {},
   "outputs": [],
   "source": [
    "meses = df.groupby(['Mes da Coleta'])['Valor de Compra'].sum()"
   ]
  },
  {
   "cell_type": "markdown",
   "id": "8a0639df",
   "metadata": {},
   "source": [
    "Podemos ver que no primeiro semestre de 2020, o mês de janeiro vendeu mais, havendo uma queda em fevereiro em decorrência da pandemia"
   ]
  },
  {
   "cell_type": "code",
   "execution_count": 9,
   "id": "16188db1",
   "metadata": {},
   "outputs": [
    {
     "data": {
      "text/plain": [
       "<AxesSubplot:xlabel='Mes da Coleta'>"
      ]
     },
     "execution_count": 9,
     "metadata": {},
     "output_type": "execute_result"
    },
    {
     "data": {
      "image/png": "[encoded data removed]",
      "text/plain": [
       "<Figure size 432x288 with 1 Axes>"
      ]
     },
     "metadata": {
      "needs_background": "light"
     },
     "output_type": "display_data"
    }
   ],
   "source": [
    "meses.plot.bar(color = 'gray')"
   ]
  }
 ],
 "metadata": {
  "kernelspec": {
   "display_name": "Python 3",
   "language": "python",
   "name": "python3"
  },
  "language_info": {
   "codemirror_mode": {
    "name": "ipython",
    "version": 3
   },
   "file_extension": ".py",
   "mimetype": "text/x-python",
   "name": "python",
   "nbconvert_exporter": "python",
   "pygments_lexer": "ipython3",
   "version": "3.8.8"
  }
 },
 "nbformat": 4,
 "nbformat_minor": 5
}
